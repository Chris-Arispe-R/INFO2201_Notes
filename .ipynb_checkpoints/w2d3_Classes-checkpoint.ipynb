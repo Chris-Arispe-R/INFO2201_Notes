{
 "cells": [
  {
   "cell_type": "markdown",
   "metadata": {
    "id": "oFHKmUe9LkTV"
   },
   "source": [
    "# Week 2 Day 3: Classes\n",
    "\n",
    "- what is a class\n",
    "- scope\n",
    "\n"
   ]
  },
  {
   "cell_type": "code",
   "execution_count": null,
   "metadata": {},
   "outputs": [],
   "source": [
    "#functions within a class is called a method\n",
    "#you have to start with self at the beginning of a class."
   ]
  },
  {
   "cell_type": "markdown",
   "metadata": {},
   "source": [
    "#### Methods vs Functions"
   ]
  },
  {
   "cell_type": "code",
   "execution_count": 5,
   "metadata": {},
   "outputs": [],
   "source": [
    "# make a class with two methods in it\n",
    "class TestClass():\n",
    "    def method1():\n",
    "        print(\"this is the first method\")\n",
    "    def method2():\n",
    "        print('this is the second method')"
   ]
  },
  {
   "cell_type": "code",
   "execution_count": 21,
   "metadata": {},
   "outputs": [
    {
     "data": {
      "text/plain": [
       "__main__.TestClass"
      ]
     },
     "execution_count": 21,
     "metadata": {},
     "output_type": "execute_result"
    }
   ],
   "source": [
    "#what is the class?\n",
    "TestClass"
   ]
  },
  {
   "cell_type": "code",
   "execution_count": 17,
   "metadata": {},
   "outputs": [
    {
     "name": "stdout",
     "output_type": "stream",
     "text": [
      "this is the first method\n"
     ]
    }
   ],
   "source": [
    "# call the first method within \n",
    "TestClass.method1()"
   ]
  },
  {
   "cell_type": "code",
   "execution_count": 19,
   "metadata": {},
   "outputs": [
    {
     "name": "stdout",
     "output_type": "stream",
     "text": [
      "this is the second method\n"
     ]
    }
   ],
   "source": [
    "# call the second method within \n",
    "TestClass.method2()"
   ]
  },
  {
   "cell_type": "code",
   "execution_count": 23,
   "metadata": {},
   "outputs": [
    {
     "data": {
      "text/plain": [
       "<__main__.TestClass at 0x1325a33e0>"
      ]
     },
     "execution_count": 23,
     "metadata": {},
     "output_type": "execute_result"
    }
   ],
   "source": [
    "#create an instance of the class\n",
    "instance = TestClass()\n",
    "\n",
    "instance"
   ]
  },
  {
   "cell_type": "code",
   "execution_count": 25,
   "metadata": {},
   "outputs": [
    {
     "ename": "TypeError",
     "evalue": "TestClass.method1() takes 0 positional arguments but 1 was given",
     "output_type": "error",
     "traceback": [
      "\u001b[0;31m---------------------------------------------------------------------------\u001b[0m",
      "\u001b[0;31mTypeError\u001b[0m                                 Traceback (most recent call last)",
      "Cell \u001b[0;32mIn[25], line 2\u001b[0m\n\u001b[1;32m      1\u001b[0m \u001b[38;5;66;03m#call the method within the instance\u001b[39;00m\n\u001b[0;32m----> 2\u001b[0m instance\u001b[38;5;241m.\u001b[39mmethod1()\n",
      "\u001b[0;31mTypeError\u001b[0m: TestClass.method1() takes 0 positional arguments but 1 was given"
     ]
    }
   ],
   "source": [
    "#call the method within the instance\n",
    "instance.method1()"
   ]
  },
  {
   "cell_type": "markdown",
   "metadata": {},
   "source": [
    "#### Class initialization __ init __ and methods"
   ]
  },
  {
   "cell_type": "code",
   "execution_count": 27,
   "metadata": {},
   "outputs": [],
   "source": [
    "# make a class with a function that intializes a name and age as arguments\n",
    "# make a method that prints out the name and age of the\n",
    "\n",
    "#If we want arguements in class we put them in the init\n",
    "#in the bottom at the self. goes your variables ex: self.name = name\n",
    "class Student():\n",
    "    def __init__(self, name, age):\n",
    "        self.name = name\n",
    "        self.age = age\n",
    "\n",
    "    def printStudentInfo(self):\n",
    "        print('Name', self.name, 'Age:', str(self.age))"
   ]
  },
  {
   "cell_type": "code",
   "execution_count": 29,
   "metadata": {},
   "outputs": [],
   "source": [
    "#create an object/ class instance\n",
    "\n",
    "student1 = Student('Polly', 20)"
   ]
  },
  {
   "cell_type": "code",
   "execution_count": 31,
   "metadata": {},
   "outputs": [
    {
     "data": {
      "text/plain": [
       "<__main__.Student at 0x132811c10>"
      ]
     },
     "execution_count": 31,
     "metadata": {},
     "output_type": "execute_result"
    }
   ],
   "source": [
    "# what is this object?\n",
    "student1"
   ]
  },
  {
   "cell_type": "code",
   "execution_count": 33,
   "metadata": {},
   "outputs": [
    {
     "data": {
      "text/plain": [
       "'Polly'"
      ]
     },
     "execution_count": 33,
     "metadata": {},
     "output_type": "execute_result"
    }
   ],
   "source": [
    "#get the name variable within the object\n",
    "student1.name"
   ]
  },
  {
   "cell_type": "code",
   "execution_count": 35,
   "metadata": {},
   "outputs": [
    {
     "data": {
      "text/plain": [
       "20"
      ]
     },
     "execution_count": 35,
     "metadata": {},
     "output_type": "execute_result"
    }
   ],
   "source": [
    "#get the age variable within the object\n",
    "student1.age"
   ]
  },
  {
   "cell_type": "code",
   "execution_count": 37,
   "metadata": {},
   "outputs": [
    {
     "name": "stdout",
     "output_type": "stream",
     "text": [
      "Name Polly Age: 20\n"
     ]
    }
   ],
   "source": [
    "# call the method within the class\n",
    "student1.printStudentInfo()"
   ]
  },
  {
   "cell_type": "code",
   "execution_count": 73,
   "metadata": {
    "executionInfo": {
     "elapsed": 3,
     "status": "ok",
     "timestamp": 1686854367974,
     "user": {
      "displayName": "Anas X384569",
      "userId": "13931278578707862625"
     },
     "user_tz": 300
    },
    "id": "EveapB8gvcMJ"
   },
   "outputs": [],
   "source": [
    "# make a class with name, age, and with a keyword argument of occupation with 'student\n",
    "\n",
    "class Person():\n",
    "    def __init__(self, name, age, occupation = 'student'):\n",
    "        self.name = name\n",
    "        self.age = age\n",
    "        self.occupation = occupation\n",
    "\n",
    "# create a method with to print all of the argumetns\n",
    "    def postInfo(self):\n",
    "        print(self.name, self.age, self.occupation)\n",
    "\n",
    "# create a method that takes in a list of grades and prints the sum of those grades\n",
    "\n",
    "    def sumOfGrades(self, listOfGrades):\n",
    "        self.listOfGrades = listOfGrades \n",
    "        print(self.name, 'Total Grade is:', sum(listOfGrades))\n",
    "        \n",
    "# create a method that prints out  the list of grades\n",
    "    def getGradeList(self):\n",
    "        print(self.listOfGrades)\n",
    "\n",
    "\n"
   ]
  },
  {
   "cell_type": "code",
   "execution_count": 75,
   "metadata": {
    "id": "C6g_Phn-vcD-"
   },
   "outputs": [],
   "source": [
    "# create an instance\n",
    "person1 = Person('Steven', 22)"
   ]
  },
  {
   "cell_type": "code",
   "execution_count": 67,
   "metadata": {
    "colab": {
     "base_uri": "https://localhost:8080/"
    },
    "executionInfo": {
     "elapsed": 25,
     "status": "ok",
     "timestamp": 1686772947824,
     "user": {
      "displayName": "Anas X384569",
      "userId": "13931278578707862625"
     },
     "user_tz": 300
    },
    "id": "l3OqBlSnwUxw",
    "outputId": "5aaa6bcb-294b-4a97-fe31-507552da4d63"
   },
   "outputs": [
    {
     "name": "stdout",
     "output_type": "stream",
     "text": [
      "Steven 22 student\n"
     ]
    }
   ],
   "source": [
    "# what is the type of this instance?\n",
    "person1.postInfo()"
   ]
  },
  {
   "cell_type": "code",
   "execution_count": 123,
   "metadata": {},
   "outputs": [
    {
     "name": "stdout",
     "output_type": "stream",
     "text": [
      "Patricia Total Grade is: 299\n"
     ]
    }
   ],
   "source": [
    "#List of Grades\n",
    "person1.sumOfGrades([90,45,86,78])"
   ]
  },
  {
   "cell_type": "code",
   "execution_count": null,
   "metadata": {},
   "outputs": [],
   "source": []
  },
  {
   "cell_type": "code",
   "execution_count": 126,
   "metadata": {
    "id": "1jCJVHnqE7hI"
   },
   "outputs": [],
   "source": [
    "# create another instance of the Person class with other arguments\n",
    "person1 = Person('Patricia', 19)\n",
    "\n",
    "person2 = Person('Mikey', 20)"
   ]
  },
  {
   "cell_type": "code",
   "execution_count": 128,
   "metadata": {
    "colab": {
     "base_uri": "https://localhost:8080/"
    },
    "executionInfo": {
     "elapsed": 22,
     "status": "ok",
     "timestamp": 1686772947826,
     "user": {
      "displayName": "Anas X384569",
      "userId": "13931278578707862625"
     },
     "user_tz": 300
    },
    "id": "t6_G1ZOhE7dq",
    "outputId": "86deeb06-1e31-442f-981a-9a2a07a63fba"
   },
   "outputs": [
    {
     "data": {
      "text/plain": [
       "__main__.Person"
      ]
     },
     "execution_count": 128,
     "metadata": {},
     "output_type": "execute_result"
    }
   ],
   "source": [
    "# what is the type of this instance?\n",
    "type(person1)"
   ]
  },
  {
   "cell_type": "code",
   "execution_count": 130,
   "metadata": {
    "colab": {
     "base_uri": "https://localhost:8080/",
     "height": 35
    },
    "executionInfo": {
     "elapsed": 18,
     "status": "ok",
     "timestamp": 1686772947827,
     "user": {
      "displayName": "Anas X384569",
      "userId": "13931278578707862625"
     },
     "user_tz": 300
    },
    "id": "Z0YlMsKmE7Xf",
    "outputId": "22cbcfbd-96a7-4e7f-b9b8-4f884950f8f7"
   },
   "outputs": [
    {
     "data": {
      "text/plain": [
       "'Patricia'"
      ]
     },
     "execution_count": 130,
     "metadata": {},
     "output_type": "execute_result"
    }
   ],
   "source": [
    "#get the name of the first person\n",
    "person1.name"
   ]
  },
  {
   "cell_type": "code",
   "execution_count": 132,
   "metadata": {
    "colab": {
     "base_uri": "https://localhost:8080/"
    },
    "executionInfo": {
     "elapsed": 16,
     "status": "ok",
     "timestamp": 1686772947828,
     "user": {
      "displayName": "Anas X384569",
      "userId": "13931278578707862625"
     },
     "user_tz": 300
    },
    "id": "DfjBlZrNE6-q",
    "outputId": "19864f49-6fe9-4a6a-a106-0c906ac3d0c5"
   },
   "outputs": [
    {
     "data": {
      "text/plain": [
       "'Mikey'"
      ]
     },
     "execution_count": 132,
     "metadata": {},
     "output_type": "execute_result"
    }
   ],
   "source": [
    "#get the age of the second person\n",
    "person2.name"
   ]
  },
  {
   "cell_type": "code",
   "execution_count": 134,
   "metadata": {
    "colab": {
     "base_uri": "https://localhost:8080/",
     "height": 35
    },
    "executionInfo": {
     "elapsed": 181,
     "status": "ok",
     "timestamp": 1686772949505,
     "user": {
      "displayName": "Anas X384569",
      "userId": "13931278578707862625"
     },
     "user_tz": 300
    },
    "id": "E77oJCC8fsBB",
    "outputId": "2b54ddbf-7e5b-4196-f114-95a2776c32ab"
   },
   "outputs": [
    {
     "data": {
      "text/plain": [
       "'student'"
      ]
     },
     "execution_count": 134,
     "metadata": {},
     "output_type": "execute_result"
    }
   ],
   "source": [
    "#get the occupation of the second person\n",
    "person2.occupation"
   ]
  },
  {
   "cell_type": "code",
   "execution_count": 136,
   "metadata": {
    "colab": {
     "base_uri": "https://localhost:8080/"
    },
    "executionInfo": {
     "elapsed": 175,
     "status": "ok",
     "timestamp": 1686772952398,
     "user": {
      "displayName": "Anas X384569",
      "userId": "13931278578707862625"
     },
     "user_tz": 300
    },
    "id": "9zs5trV3fr93",
    "outputId": "9378d886-5c2e-4056-a862-a4bcd570df64"
   },
   "outputs": [
    {
     "name": "stdout",
     "output_type": "stream",
     "text": [
      "Patricia 19 student\n"
     ]
    }
   ],
   "source": [
    "# call the method that prints out the information for person 1\n",
    "person1.postInfo()"
   ]
  },
  {
   "cell_type": "markdown",
   "metadata": {
    "id": "_k2pJ-qOvlJV"
   },
   "source": [
    "#### Passing Arguments"
   ]
  },
  {
   "cell_type": "code",
   "execution_count": 139,
   "metadata": {
    "id": "AZzvzeOWvnAh"
   },
   "outputs": [],
   "source": [
    "#make a third instance \n",
    "person3 = Person('Tally', 34, 'Store manager')"
   ]
  },
  {
   "cell_type": "code",
   "execution_count": 141,
   "metadata": {
    "colab": {
     "base_uri": "https://localhost:8080/"
    },
    "executionInfo": {
     "elapsed": 5,
     "status": "ok",
     "timestamp": 1686773269170,
     "user": {
      "displayName": "Anas X384569",
      "userId": "13931278578707862625"
     },
     "user_tz": 300
    },
    "id": "dZLa0JZhvoHA",
    "outputId": "fd39b3c2-5552-49d1-a23f-30ff5bb47fad"
   },
   "outputs": [
    {
     "name": "stdout",
     "output_type": "stream",
     "text": [
      "Tally 34 Store manager\n"
     ]
    }
   ],
   "source": [
    "# call the method to print information\n",
    "person3.postInfo()"
   ]
  },
  {
   "cell_type": "code",
   "execution_count": 147,
   "metadata": {},
   "outputs": [
    {
     "name": "stdout",
     "output_type": "stream",
     "text": [
      "Tally Total Grade is: 290\n"
     ]
    }
   ],
   "source": [
    "# call the method to get the grades list\n",
    "person3.sumOfGrades([90,56,87,57])"
   ]
  },
  {
   "cell_type": "code",
   "execution_count": 174,
   "metadata": {
    "colab": {
     "base_uri": "https://localhost:8080/"
    },
    "executionInfo": {
     "elapsed": 178,
     "status": "ok",
     "timestamp": 1686773308041,
     "user": {
      "displayName": "Anas X384569",
      "userId": "13931278578707862625"
     },
     "user_tz": 300
    },
    "id": "UrqLALkqvn7f",
    "outputId": "a014c78a-1e58-44ed-b781-53913a0fa010"
   },
   "outputs": [
    {
     "name": "stdout",
     "output_type": "stream",
     "text": [
      "[90, 56, 87, 57]\n"
     ]
    }
   ],
   "source": [
    "# call the method that sums the grades list\n",
    "person3.getGradeList()"
   ]
  },
  {
   "cell_type": "code",
   "execution_count": 176,
   "metadata": {},
   "outputs": [],
   "source": [
    "# call the method taht gets the grades list again\n"
   ]
  },
  {
   "cell_type": "code",
   "execution_count": 178,
   "metadata": {
    "id": "lPZ92Pipvnc0"
   },
   "outputs": [],
   "source": [
    "# create a class that assigns two arguments and \n",
    "# has a method that prints the arguments\n",
    "# has a method that has a list of tasks\n",
    "class DogWash():\n",
    "    def __init__(self, dog, breed):\n",
    "        self.dog = dog\n",
    "        self.breed = breed\n",
    "\n",
    "    def printDogInfo(self):\n",
    "        print('Dog Name:', self.dog)\n",
    "        print('Dog Breed:', self.breed)\n",
    "\n",
    "    def getTasks(self, taskLyst):\n",
    "        return(taskLyst)\n"
   ]
  },
  {
   "cell_type": "code",
   "execution_count": 180,
   "metadata": {},
   "outputs": [],
   "source": [
    "# assign an instance with a name and an age\n",
    "dog1 = DogWash('Jasper', 'Mutt(mostly lab)')"
   ]
  },
  {
   "cell_type": "code",
   "execution_count": 182,
   "metadata": {},
   "outputs": [
    {
     "name": "stdout",
     "output_type": "stream",
     "text": [
      "Dog Name: Jasper\n",
      "Dog Breed: Mutt(mostly lab)\n"
     ]
    }
   ],
   "source": [
    "#Info\n",
    "dog1.printDogInfo()"
   ]
  },
  {
   "cell_type": "code",
   "execution_count": 194,
   "metadata": {},
   "outputs": [
    {
     "data": {
      "text/plain": [
       "['cut', 'clip', 'wash', 'dry']"
      ]
     },
     "execution_count": 194,
     "metadata": {},
     "output_type": "execute_result"
    }
   ],
   "source": [
    "# define the list \n",
    "jasperTasks = dog1.getTasks(['cut', 'clip', 'wash', 'dry'])\n",
    "jasperTasks"
   ]
  },
  {
   "cell_type": "markdown",
   "metadata": {},
   "source": [
    "#### Updating Variables"
   ]
  },
  {
   "cell_type": "code",
   "execution_count": 201,
   "metadata": {},
   "outputs": [],
   "source": [
    "# updating the name  \n",
    "dog1.name = 'Charlie'"
   ]
  },
  {
   "cell_type": "code",
   "execution_count": 203,
   "metadata": {},
   "outputs": [
    {
     "data": {
      "text/plain": [
       "['wash', 'dry']"
      ]
     },
     "execution_count": 203,
     "metadata": {},
     "output_type": "execute_result"
    }
   ],
   "source": [
    "# update the lyst\n",
    "dog1.getTasks(['wash', 'dry'])"
   ]
  },
  {
   "cell_type": "code",
   "execution_count": null,
   "metadata": {},
   "outputs": [],
   "source": []
  }
 ],
 "metadata": {
  "colab": {
   "authorship_tag": "ABX9TyOjsUZ4ZU6OafWAp9FjZ2J4",
   "provenance": []
  },
  "kernelspec": {
   "display_name": "Python 3 (ipykernel)",
   "language": "python",
   "name": "python3"
  },
  "language_info": {
   "codemirror_mode": {
    "name": "ipython",
    "version": 3
   },
   "file_extension": ".py",
   "mimetype": "text/x-python",
   "name": "python",
   "nbconvert_exporter": "python",
   "pygments_lexer": "ipython3",
   "version": "3.12.4"
  }
 },
 "nbformat": 4,
 "nbformat_minor": 4
}
