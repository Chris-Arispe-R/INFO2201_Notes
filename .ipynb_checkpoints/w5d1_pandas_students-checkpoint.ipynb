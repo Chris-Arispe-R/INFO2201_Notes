{
 "cells": [
  {
   "cell_type": "markdown",
   "metadata": {},
   "source": [
    "# Week 5 Day 1 - Pandas\n",
    "\n",
    "[Pandas](https://pandas.pydata.org) is a software library written for the Python programming language for data manipulation and analysis. In particular, it offers data structures and operations for manipulating numerical tables and time series. It is free software released under the three-clause BSD license."
   ]
  },
  {
   "cell_type": "code",
   "execution_count": 1,
   "metadata": {},
   "outputs": [],
   "source": [
    "import pandas as pd"
   ]
  },
  {
   "cell_type": "code",
   "execution_count": 2,
   "metadata": {},
   "outputs": [],
   "source": [
    "# make a dictionary with lists as values\n",
    "mydataset = {\n",
    "  'cars': [\"BMW\", \"Volvo\", \"Ford\"],\n",
    "  'passings': [3, 7, 2]\n",
    "}"
   ]
  },
  {
   "cell_type": "code",
   "execution_count": 7,
   "metadata": {},
   "outputs": [
    {
     "data": {
      "text/plain": [
       "{'cars': ['BMW', 'Volvo', 'Ford'], 'passings': [3, 7, 2]}"
      ]
     },
     "execution_count": 7,
     "metadata": {},
     "output_type": "execute_result"
    }
   ],
   "source": [
    "#make it a dataframe\n",
    "mydataset"
   ]
  },
  {
   "cell_type": "code",
   "execution_count": 9,
   "metadata": {},
   "outputs": [
    {
     "data": {
      "text/html": [
       "<div>\n",
       "<style scoped>\n",
       "    .dataframe tbody tr th:only-of-type {\n",
       "        vertical-align: middle;\n",
       "    }\n",
       "\n",
       "    .dataframe tbody tr th {\n",
       "        vertical-align: top;\n",
       "    }\n",
       "\n",
       "    .dataframe thead th {\n",
       "        text-align: right;\n",
       "    }\n",
       "</style>\n",
       "<table border=\"1\" class=\"dataframe\">\n",
       "  <thead>\n",
       "    <tr style=\"text-align: right;\">\n",
       "      <th></th>\n",
       "      <th>cars</th>\n",
       "      <th>passings</th>\n",
       "    </tr>\n",
       "  </thead>\n",
       "  <tbody>\n",
       "    <tr>\n",
       "      <th>0</th>\n",
       "      <td>BMW</td>\n",
       "      <td>3</td>\n",
       "    </tr>\n",
       "    <tr>\n",
       "      <th>1</th>\n",
       "      <td>Volvo</td>\n",
       "      <td>7</td>\n",
       "    </tr>\n",
       "    <tr>\n",
       "      <th>2</th>\n",
       "      <td>Ford</td>\n",
       "      <td>2</td>\n",
       "    </tr>\n",
       "  </tbody>\n",
       "</table>\n",
       "</div>"
      ],
      "text/plain": [
       "    cars  passings\n",
       "0    BMW         3\n",
       "1  Volvo         7\n",
       "2   Ford         2"
      ]
     },
     "execution_count": 9,
     "metadata": {},
     "output_type": "execute_result"
    }
   ],
   "source": [
    "#get the information of your dataframe\n",
    "mycars = pd.DataFrame(mydataset)\n",
    "mycars"
   ]
  },
  {
   "cell_type": "code",
   "execution_count": 13,
   "metadata": {},
   "outputs": [
    {
     "name": "stdout",
     "output_type": "stream",
     "text": [
      "<class 'pandas.core.frame.DataFrame'>\n",
      "RangeIndex: 3 entries, 0 to 2\n",
      "Data columns (total 2 columns):\n",
      " #   Column    Non-Null Count  Dtype \n",
      "---  ------    --------------  ----- \n",
      " 0   cars      3 non-null      object\n",
      " 1   passings  3 non-null      int64 \n",
      "dtypes: int64(1), object(1)\n",
      "memory usage: 180.0+ bytes\n"
     ]
    }
   ],
   "source": [
    "#get the shape of your dataframe\n",
    "mycars.info()"
   ]
  },
  {
   "cell_type": "code",
   "execution_count": 15,
   "metadata": {},
   "outputs": [
    {
     "data": {
      "text/plain": [
       "(3, 2)"
      ]
     },
     "execution_count": 15,
     "metadata": {},
     "output_type": "execute_result"
    }
   ],
   "source": [
    "#get the shape\n",
    "mycars.shape"
   ]
  },
  {
   "cell_type": "code",
   "execution_count": 17,
   "metadata": {},
   "outputs": [
    {
     "data": {
      "text/plain": [
       "Index(['cars', 'passings'], dtype='object')"
      ]
     },
     "execution_count": 17,
     "metadata": {},
     "output_type": "execute_result"
    }
   ],
   "source": [
    "#get the columns\n",
    "mycars.columns"
   ]
  },
  {
   "cell_type": "code",
   "execution_count": 19,
   "metadata": {},
   "outputs": [
    {
     "data": {
      "text/plain": [
       "array([['BMW', 3],\n",
       "       ['Volvo', 7],\n",
       "       ['Ford', 2]], dtype=object)"
      ]
     },
     "execution_count": 19,
     "metadata": {},
     "output_type": "execute_result"
    }
   ],
   "source": [
    "#get the rows\n",
    "mycars.values"
   ]
  },
  {
   "cell_type": "code",
   "execution_count": 21,
   "metadata": {},
   "outputs": [
    {
     "data": {
      "text/plain": [
       "array([0, 1, 2])"
      ]
     },
     "execution_count": 21,
     "metadata": {},
     "output_type": "execute_result"
    }
   ],
   "source": [
    "#get the axis\n",
    "mycars.index.values"
   ]
  },
  {
   "cell_type": "code",
   "execution_count": 23,
   "metadata": {},
   "outputs": [
    {
     "data": {
      "text/plain": [
       "[RangeIndex(start=0, stop=3, step=1),\n",
       " Index(['cars', 'passings'], dtype='object')]"
      ]
     },
     "execution_count": 23,
     "metadata": {},
     "output_type": "execute_result"
    }
   ],
   "source": [
    "#get the axis row\n",
    "mycars.axes"
   ]
  },
  {
   "cell_type": "code",
   "execution_count": 27,
   "metadata": {},
   "outputs": [
    {
     "data": {
      "text/plain": [
       "cars        BMW\n",
       "passings      3\n",
       "Name: 0, dtype: object"
      ]
     },
     "execution_count": 27,
     "metadata": {},
     "output_type": "execute_result"
    }
   ],
   "source": [
    "#get the first row\n",
    "mycars.loc[0]"
   ]
  },
  {
   "cell_type": "code",
   "execution_count": 29,
   "metadata": {},
   "outputs": [
    {
     "data": {
      "text/plain": [
       "cars        Ford\n",
       "passings       2\n",
       "Name: 2, dtype: object"
      ]
     },
     "execution_count": 29,
     "metadata": {},
     "output_type": "execute_result"
    }
   ],
   "source": [
    "mycars.loc[2]"
   ]
  },
  {
   "cell_type": "code",
   "execution_count": 31,
   "metadata": {},
   "outputs": [
    {
     "data": {
      "text/plain": [
       "pandas.core.series.Series"
      ]
     },
     "execution_count": 31,
     "metadata": {},
     "output_type": "execute_result"
    }
   ],
   "source": [
    "#data type?\n",
    "type(mycars.loc[2])"
   ]
  },
  {
   "cell_type": "code",
   "execution_count": 39,
   "metadata": {},
   "outputs": [
    {
     "data": {
      "text/html": [
       "<div>\n",
       "<style scoped>\n",
       "    .dataframe tbody tr th:only-of-type {\n",
       "        vertical-align: middle;\n",
       "    }\n",
       "\n",
       "    .dataframe tbody tr th {\n",
       "        vertical-align: top;\n",
       "    }\n",
       "\n",
       "    .dataframe thead th {\n",
       "        text-align: right;\n",
       "    }\n",
       "</style>\n",
       "<table border=\"1\" class=\"dataframe\">\n",
       "  <thead>\n",
       "    <tr style=\"text-align: right;\">\n",
       "      <th></th>\n",
       "      <th>cars</th>\n",
       "      <th>passings</th>\n",
       "    </tr>\n",
       "  </thead>\n",
       "  <tbody>\n",
       "    <tr>\n",
       "      <th>0</th>\n",
       "      <td>BMW</td>\n",
       "      <td>3</td>\n",
       "    </tr>\n",
       "    <tr>\n",
       "      <th>2</th>\n",
       "      <td>Ford</td>\n",
       "      <td>2</td>\n",
       "    </tr>\n",
       "  </tbody>\n",
       "</table>\n",
       "</div>"
      ],
      "text/plain": [
       "   cars  passings\n",
       "0   BMW         3\n",
       "2  Ford         2"
      ]
     },
     "execution_count": 39,
     "metadata": {},
     "output_type": "execute_result"
    }
   ],
   "source": [
    "#use a list of indexs. *since it's range add another hard braket \n",
    "mycars.loc[[0,2]]"
   ]
  },
  {
   "cell_type": "code",
   "execution_count": 41,
   "metadata": {},
   "outputs": [
    {
     "data": {
      "text/plain": [
       "0      BMW\n",
       "1    Volvo\n",
       "2     Ford\n",
       "Name: cars, dtype: object"
      ]
     },
     "execution_count": 41,
     "metadata": {},
     "output_type": "execute_result"
    }
   ],
   "source": [
    "#get a column\n",
    "mycars['cars']"
   ]
  },
  {
   "cell_type": "code",
   "execution_count": 45,
   "metadata": {},
   "outputs": [
    {
     "data": {
      "text/html": [
       "<div>\n",
       "<style scoped>\n",
       "    .dataframe tbody tr th:only-of-type {\n",
       "        vertical-align: middle;\n",
       "    }\n",
       "\n",
       "    .dataframe tbody tr th {\n",
       "        vertical-align: top;\n",
       "    }\n",
       "\n",
       "    .dataframe thead th {\n",
       "        text-align: right;\n",
       "    }\n",
       "</style>\n",
       "<table border=\"1\" class=\"dataframe\">\n",
       "  <thead>\n",
       "    <tr style=\"text-align: right;\">\n",
       "      <th></th>\n",
       "      <th>cars</th>\n",
       "      <th>passings</th>\n",
       "    </tr>\n",
       "  </thead>\n",
       "  <tbody>\n",
       "    <tr>\n",
       "      <th>0</th>\n",
       "      <td>BMW</td>\n",
       "      <td>3</td>\n",
       "    </tr>\n",
       "    <tr>\n",
       "      <th>1</th>\n",
       "      <td>Volvo</td>\n",
       "      <td>7</td>\n",
       "    </tr>\n",
       "    <tr>\n",
       "      <th>2</th>\n",
       "      <td>Ford</td>\n",
       "      <td>2</td>\n",
       "    </tr>\n",
       "  </tbody>\n",
       "</table>\n",
       "</div>"
      ],
      "text/plain": [
       "    cars  passings\n",
       "0    BMW         3\n",
       "1  Volvo         7\n",
       "2   Ford         2"
      ]
     },
     "execution_count": 45,
     "metadata": {},
     "output_type": "execute_result"
    }
   ],
   "source": [
    "#get the rows\n",
    "mycars.loc[[0,1,2]]"
   ]
  },
  {
   "cell_type": "code",
   "execution_count": 47,
   "metadata": {},
   "outputs": [
    {
     "data": {
      "text/plain": [
       "cars        object\n",
       "passings     int64\n",
       "dtype: object"
      ]
     },
     "execution_count": 47,
     "metadata": {},
     "output_type": "execute_result"
    }
   ],
   "source": [
    "#what are the datatypes of the dataframe\n",
    "mycars.dtypes"
   ]
  },
  {
   "cell_type": "code",
   "execution_count": 49,
   "metadata": {},
   "outputs": [
    {
     "data": {
      "text/plain": [
       "0    3.0\n",
       "1    7.0\n",
       "2    2.0\n",
       "Name: passings, dtype: float64"
      ]
     },
     "execution_count": 49,
     "metadata": {},
     "output_type": "execute_result"
    }
   ],
   "source": [
    "#change column 'passings' to float\n",
    "\n",
    "mycars['passings'].astype('float')"
   ]
  },
  {
   "cell_type": "code",
   "execution_count": 51,
   "metadata": {},
   "outputs": [
    {
     "data": {
      "text/plain": [
       "cars        object\n",
       "passings     int64\n",
       "dtype: object"
      ]
     },
     "execution_count": 51,
     "metadata": {},
     "output_type": "execute_result"
    }
   ],
   "source": [
    "#look at it again\n",
    "mycars.dtypes"
   ]
  },
  {
   "cell_type": "code",
   "execution_count": 61,
   "metadata": {},
   "outputs": [
    {
     "data": {
      "text/html": [
       "<div>\n",
       "<style scoped>\n",
       "    .dataframe tbody tr th:only-of-type {\n",
       "        vertical-align: middle;\n",
       "    }\n",
       "\n",
       "    .dataframe tbody tr th {\n",
       "        vertical-align: top;\n",
       "    }\n",
       "\n",
       "    .dataframe thead th {\n",
       "        text-align: right;\n",
       "    }\n",
       "</style>\n",
       "<table border=\"1\" class=\"dataframe\">\n",
       "  <thead>\n",
       "    <tr style=\"text-align: right;\">\n",
       "      <th></th>\n",
       "      <th>cars</th>\n",
       "      <th>passings</th>\n",
       "    </tr>\n",
       "  </thead>\n",
       "  <tbody>\n",
       "    <tr>\n",
       "      <th>0</th>\n",
       "      <td>BMW</td>\n",
       "      <td>3.0</td>\n",
       "    </tr>\n",
       "    <tr>\n",
       "      <th>1</th>\n",
       "      <td>Volvo</td>\n",
       "      <td>7.0</td>\n",
       "    </tr>\n",
       "    <tr>\n",
       "      <th>2</th>\n",
       "      <td>Ford</td>\n",
       "      <td>2.0</td>\n",
       "    </tr>\n",
       "  </tbody>\n",
       "</table>\n",
       "</div>"
      ],
      "text/plain": [
       "    cars  passings\n",
       "0    BMW       3.0\n",
       "1  Volvo       7.0\n",
       "2   Ford       2.0"
      ]
     },
     "execution_count": 61,
     "metadata": {},
     "output_type": "execute_result"
    }
   ],
   "source": [
    "mycars['passings'] = mycars['passings'].astype('float')\n",
    "mycars"
   ]
  },
  {
   "cell_type": "code",
   "execution_count": 63,
   "metadata": {},
   "outputs": [
    {
     "data": {
      "text/html": [
       "<div>\n",
       "<style scoped>\n",
       "    .dataframe tbody tr th:only-of-type {\n",
       "        vertical-align: middle;\n",
       "    }\n",
       "\n",
       "    .dataframe tbody tr th {\n",
       "        vertical-align: top;\n",
       "    }\n",
       "\n",
       "    .dataframe thead th {\n",
       "        text-align: right;\n",
       "    }\n",
       "</style>\n",
       "<table border=\"1\" class=\"dataframe\">\n",
       "  <thead>\n",
       "    <tr style=\"text-align: right;\">\n",
       "      <th></th>\n",
       "      <th>cars</th>\n",
       "      <th>passings</th>\n",
       "    </tr>\n",
       "  </thead>\n",
       "  <tbody>\n",
       "    <tr>\n",
       "      <th>0</th>\n",
       "      <td>BMW</td>\n",
       "      <td>3.0</td>\n",
       "    </tr>\n",
       "    <tr>\n",
       "      <th>1</th>\n",
       "      <td>Volvo</td>\n",
       "      <td>7.0</td>\n",
       "    </tr>\n",
       "  </tbody>\n",
       "</table>\n",
       "</div>"
      ],
      "text/plain": [
       "    cars  passings\n",
       "0    BMW       3.0\n",
       "1  Volvo       7.0"
      ]
     },
     "execution_count": 63,
     "metadata": {},
     "output_type": "execute_result"
    }
   ],
   "source": [
    "#get rid of the last row\n",
    "mycars.drop(2)"
   ]
  },
  {
   "cell_type": "code",
   "execution_count": 65,
   "metadata": {},
   "outputs": [
    {
     "data": {
      "text/html": [
       "<div>\n",
       "<style scoped>\n",
       "    .dataframe tbody tr th:only-of-type {\n",
       "        vertical-align: middle;\n",
       "    }\n",
       "\n",
       "    .dataframe tbody tr th {\n",
       "        vertical-align: top;\n",
       "    }\n",
       "\n",
       "    .dataframe thead th {\n",
       "        text-align: right;\n",
       "    }\n",
       "</style>\n",
       "<table border=\"1\" class=\"dataframe\">\n",
       "  <thead>\n",
       "    <tr style=\"text-align: right;\">\n",
       "      <th></th>\n",
       "      <th>cars</th>\n",
       "      <th>passings</th>\n",
       "    </tr>\n",
       "  </thead>\n",
       "  <tbody>\n",
       "    <tr>\n",
       "      <th>0</th>\n",
       "      <td>BMW</td>\n",
       "      <td>3.0</td>\n",
       "    </tr>\n",
       "    <tr>\n",
       "      <th>1</th>\n",
       "      <td>Volvo</td>\n",
       "      <td>7.0</td>\n",
       "    </tr>\n",
       "    <tr>\n",
       "      <th>2</th>\n",
       "      <td>Ford</td>\n",
       "      <td>2.0</td>\n",
       "    </tr>\n",
       "  </tbody>\n",
       "</table>\n",
       "</div>"
      ],
      "text/plain": [
       "    cars  passings\n",
       "0    BMW       3.0\n",
       "1  Volvo       7.0\n",
       "2   Ford       2.0"
      ]
     },
     "execution_count": 65,
     "metadata": {},
     "output_type": "execute_result"
    }
   ],
   "source": [
    "#if you look at it again it didn't actually disappear\n",
    "mycars"
   ]
  },
  {
   "cell_type": "code",
   "execution_count": 67,
   "metadata": {},
   "outputs": [
    {
     "data": {
      "text/html": [
       "<div>\n",
       "<style scoped>\n",
       "    .dataframe tbody tr th:only-of-type {\n",
       "        vertical-align: middle;\n",
       "    }\n",
       "\n",
       "    .dataframe tbody tr th {\n",
       "        vertical-align: top;\n",
       "    }\n",
       "\n",
       "    .dataframe thead th {\n",
       "        text-align: right;\n",
       "    }\n",
       "</style>\n",
       "<table border=\"1\" class=\"dataframe\">\n",
       "  <thead>\n",
       "    <tr style=\"text-align: right;\">\n",
       "      <th></th>\n",
       "      <th>cars</th>\n",
       "      <th>passings</th>\n",
       "    </tr>\n",
       "  </thead>\n",
       "  <tbody>\n",
       "    <tr>\n",
       "      <th>0</th>\n",
       "      <td>BMW</td>\n",
       "      <td>3.0</td>\n",
       "    </tr>\n",
       "    <tr>\n",
       "      <th>1</th>\n",
       "      <td>Volvo</td>\n",
       "      <td>7.0</td>\n",
       "    </tr>\n",
       "  </tbody>\n",
       "</table>\n",
       "</div>"
      ],
      "text/plain": [
       "    cars  passings\n",
       "0    BMW       3.0\n",
       "1  Volvo       7.0"
      ]
     },
     "execution_count": 67,
     "metadata": {},
     "output_type": "execute_result"
    }
   ],
   "source": [
    "#to actually get rid of the cloumn make a new dataframe\n",
    "newDf = mycars.drop(2)\n",
    "newDf"
   ]
  },
  {
   "cell_type": "code",
   "execution_count": 74,
   "metadata": {},
   "outputs": [
    {
     "data": {
      "text/html": [
       "<div>\n",
       "<style scoped>\n",
       "    .dataframe tbody tr th:only-of-type {\n",
       "        vertical-align: middle;\n",
       "    }\n",
       "\n",
       "    .dataframe tbody tr th {\n",
       "        vertical-align: top;\n",
       "    }\n",
       "\n",
       "    .dataframe thead th {\n",
       "        text-align: right;\n",
       "    }\n",
       "</style>\n",
       "<table border=\"1\" class=\"dataframe\">\n",
       "  <thead>\n",
       "    <tr style=\"text-align: right;\">\n",
       "      <th></th>\n",
       "      <th>cars</th>\n",
       "    </tr>\n",
       "  </thead>\n",
       "  <tbody>\n",
       "    <tr>\n",
       "      <th>0</th>\n",
       "      <td>BMW</td>\n",
       "    </tr>\n",
       "    <tr>\n",
       "      <th>1</th>\n",
       "      <td>Volvo</td>\n",
       "    </tr>\n",
       "  </tbody>\n",
       "</table>\n",
       "</div>"
      ],
      "text/plain": [
       "    cars\n",
       "0    BMW\n",
       "1  Volvo"
      ]
     },
     "execution_count": 74,
     "metadata": {},
     "output_type": "execute_result"
    }
   ],
   "source": [
    "#get rid of the passings column\n",
    "newDf = newDf.drop('passings', axis = 'columns')\n",
    "newDf"
   ]
  },
  {
   "cell_type": "markdown",
   "metadata": {},
   "source": [
    "<!--  -->"
   ]
  },
  {
   "cell_type": "markdown",
   "metadata": {},
   "source": [
    "### NaN & empty data"
   ]
  },
  {
   "cell_type": "code",
   "execution_count": 85,
   "metadata": {},
   "outputs": [],
   "source": [
    "import numpy as np\n",
    "\n",
    "uglyData = {\n",
    "  'cars': [\"BMW\", 'Jeep', \"Ford\", 'Chrysler'],\n",
    "  'passings': [3, np.nan, 2, 'NaN']\n",
    "}\n",
    "\n",
    "uglyDF = pd.DataFrame(uglyData)"
   ]
  },
  {
   "cell_type": "code",
   "execution_count": 87,
   "metadata": {},
   "outputs": [
    {
     "data": {
      "text/html": [
       "<div>\n",
       "<style scoped>\n",
       "    .dataframe tbody tr th:only-of-type {\n",
       "        vertical-align: middle;\n",
       "    }\n",
       "\n",
       "    .dataframe tbody tr th {\n",
       "        vertical-align: top;\n",
       "    }\n",
       "\n",
       "    .dataframe thead th {\n",
       "        text-align: right;\n",
       "    }\n",
       "</style>\n",
       "<table border=\"1\" class=\"dataframe\">\n",
       "  <thead>\n",
       "    <tr style=\"text-align: right;\">\n",
       "      <th></th>\n",
       "      <th>cars</th>\n",
       "      <th>passings</th>\n",
       "    </tr>\n",
       "  </thead>\n",
       "  <tbody>\n",
       "    <tr>\n",
       "      <th>0</th>\n",
       "      <td>BMW</td>\n",
       "      <td>3</td>\n",
       "    </tr>\n",
       "    <tr>\n",
       "      <th>1</th>\n",
       "      <td>Jeep</td>\n",
       "      <td>NaN</td>\n",
       "    </tr>\n",
       "    <tr>\n",
       "      <th>2</th>\n",
       "      <td>Ford</td>\n",
       "      <td>2</td>\n",
       "    </tr>\n",
       "    <tr>\n",
       "      <th>3</th>\n",
       "      <td>Chrysler</td>\n",
       "      <td>NaN</td>\n",
       "    </tr>\n",
       "  </tbody>\n",
       "</table>\n",
       "</div>"
      ],
      "text/plain": [
       "       cars passings\n",
       "0       BMW        3\n",
       "1      Jeep      NaN\n",
       "2      Ford        2\n",
       "3  Chrysler      NaN"
      ]
     },
     "execution_count": 87,
     "metadata": {},
     "output_type": "execute_result"
    }
   ],
   "source": [
    "uglyDF"
   ]
  },
  {
   "cell_type": "code",
   "execution_count": 93,
   "metadata": {},
   "outputs": [],
   "source": [
    "#drop the Nan, this can drop the null-values\n",
    "uglyDF_clean =uglyDF.dropna()"
   ]
  },
  {
   "cell_type": "code",
   "execution_count": 99,
   "metadata": {},
   "outputs": [
    {
     "data": {
      "text/html": [
       "<div>\n",
       "<style scoped>\n",
       "    .dataframe tbody tr th:only-of-type {\n",
       "        vertical-align: middle;\n",
       "    }\n",
       "\n",
       "    .dataframe tbody tr th {\n",
       "        vertical-align: top;\n",
       "    }\n",
       "\n",
       "    .dataframe thead th {\n",
       "        text-align: right;\n",
       "    }\n",
       "</style>\n",
       "<table border=\"1\" class=\"dataframe\">\n",
       "  <thead>\n",
       "    <tr style=\"text-align: right;\">\n",
       "      <th></th>\n",
       "      <th>cars</th>\n",
       "      <th>passings</th>\n",
       "    </tr>\n",
       "  </thead>\n",
       "  <tbody>\n",
       "    <tr>\n",
       "      <th>0</th>\n",
       "      <td>BMW</td>\n",
       "      <td>3</td>\n",
       "    </tr>\n",
       "    <tr>\n",
       "      <th>2</th>\n",
       "      <td>Ford</td>\n",
       "      <td>2</td>\n",
       "    </tr>\n",
       "    <tr>\n",
       "      <th>3</th>\n",
       "      <td>Chrysler</td>\n",
       "      <td>NaN</td>\n",
       "    </tr>\n",
       "  </tbody>\n",
       "</table>\n",
       "</div>"
      ],
      "text/plain": [
       "       cars passings\n",
       "0       BMW        3\n",
       "2      Ford        2\n",
       "3  Chrysler      NaN"
      ]
     },
     "execution_count": 99,
     "metadata": {},
     "output_type": "execute_result"
    }
   ],
   "source": [
    "uglyDF_clean"
   ]
  },
  {
   "cell_type": "code",
   "execution_count": 107,
   "metadata": {},
   "outputs": [
    {
     "data": {
      "text/html": [
       "<div>\n",
       "<style scoped>\n",
       "    .dataframe tbody tr th:only-of-type {\n",
       "        vertical-align: middle;\n",
       "    }\n",
       "\n",
       "    .dataframe tbody tr th {\n",
       "        vertical-align: top;\n",
       "    }\n",
       "\n",
       "    .dataframe thead th {\n",
       "        text-align: right;\n",
       "    }\n",
       "</style>\n",
       "<table border=\"1\" class=\"dataframe\">\n",
       "  <thead>\n",
       "    <tr style=\"text-align: right;\">\n",
       "      <th></th>\n",
       "      <th>cars</th>\n",
       "      <th>passings</th>\n",
       "    </tr>\n",
       "  </thead>\n",
       "  <tbody>\n",
       "    <tr>\n",
       "      <th>0</th>\n",
       "      <td>BMW</td>\n",
       "      <td>3</td>\n",
       "    </tr>\n",
       "    <tr>\n",
       "      <th>1</th>\n",
       "      <td>Jeep</td>\n",
       "      <td>0</td>\n",
       "    </tr>\n",
       "    <tr>\n",
       "      <th>2</th>\n",
       "      <td>Ford</td>\n",
       "      <td>2</td>\n",
       "    </tr>\n",
       "    <tr>\n",
       "      <th>3</th>\n",
       "      <td>Chrysler</td>\n",
       "      <td>NaN</td>\n",
       "    </tr>\n",
       "  </tbody>\n",
       "</table>\n",
       "</div>"
      ],
      "text/plain": [
       "       cars passings\n",
       "0       BMW        3\n",
       "1      Jeep        0\n",
       "2      Ford        2\n",
       "3  Chrysler      NaN"
      ]
     },
     "execution_count": 107,
     "metadata": {},
     "output_type": "execute_result"
    }
   ],
   "source": [
    "#replace NaN it with 0\n",
    "uglyDF_clean2 = uglyDF.fillna(0)\n",
    "uglyDF_clean2"
   ]
  },
  {
   "cell_type": "markdown",
   "metadata": {},
   "source": [
    "<!--  -->"
   ]
  },
  {
   "cell_type": "markdown",
   "metadata": {},
   "source": [
    "### .csv Files\n",
    "\n",
    "**pd.read_csv** \n",
    "\n",
    "A simple way to store big data sets is to use CSV files (comma separated files).\n",
    "CSV files contains plain text and is a well know format that can be read by everyone including Pandas.\n",
    "\n",
    "*pd.read_csv(filepath_or_buffer, sep=’ ,’ , header=’infer’,  index_col=None, usecols=None, engine=None, skiprows=None, nrows=None)*"
   ]
  },
  {
   "cell_type": "code",
   "execution_count": 115,
   "metadata": {},
   "outputs": [],
   "source": [
    "#import tv_shows.csv\n",
    "df = pd.read_csv('Data_txtFiles/tv_shows.csv')"
   ]
  },
  {
   "cell_type": "code",
   "execution_count": 117,
   "metadata": {},
   "outputs": [
    {
     "data": {
      "text/html": [
       "<div>\n",
       "<style scoped>\n",
       "    .dataframe tbody tr th:only-of-type {\n",
       "        vertical-align: middle;\n",
       "    }\n",
       "\n",
       "    .dataframe tbody tr th {\n",
       "        vertical-align: top;\n",
       "    }\n",
       "\n",
       "    .dataframe thead th {\n",
       "        text-align: right;\n",
       "    }\n",
       "</style>\n",
       "<table border=\"1\" class=\"dataframe\">\n",
       "  <thead>\n",
       "    <tr style=\"text-align: right;\">\n",
       "      <th></th>\n",
       "      <th>Unnamed: 0</th>\n",
       "      <th>title</th>\n",
       "      <th>year</th>\n",
       "      <th>runtime</th>\n",
       "      <th>rating</th>\n",
       "      <th>votes</th>\n",
       "      <th>genre</th>\n",
       "      <th>text</th>\n",
       "    </tr>\n",
       "  </thead>\n",
       "  <tbody>\n",
       "    <tr>\n",
       "      <th>0</th>\n",
       "      <td>0</td>\n",
       "      <td>Game of Thrones</td>\n",
       "      <td>(2011 TV Series)</td>\n",
       "      <td>55 mins.</td>\n",
       "      <td>9.5</td>\n",
       "      <td>748,557</td>\n",
       "      <td>[u'Adventure', u'Drama', u'Fantasy']</td>\n",
       "      <td>Several noble families fight for control of th...</td>\n",
       "    </tr>\n",
       "    <tr>\n",
       "      <th>1</th>\n",
       "      <td>1</td>\n",
       "      <td>Breaking Bad</td>\n",
       "      <td>(2008 TV Series)</td>\n",
       "      <td>45 mins.</td>\n",
       "      <td>9.5</td>\n",
       "      <td>662,459</td>\n",
       "      <td>[u'Crime', u'Drama', u'Thriller']</td>\n",
       "      <td>A chemistry teacher diagnosed with a terminal ...</td>\n",
       "    </tr>\n",
       "    <tr>\n",
       "      <th>2</th>\n",
       "      <td>2</td>\n",
       "      <td>The Walking Dead</td>\n",
       "      <td>(2010 TV Series)</td>\n",
       "      <td>44 mins.</td>\n",
       "      <td>8.7</td>\n",
       "      <td>500,301</td>\n",
       "      <td>[u'Drama', u'Horror']</td>\n",
       "      <td>Sheriff's Deputy Rick Grimes leads a group of ...</td>\n",
       "    </tr>\n",
       "    <tr>\n",
       "      <th>3</th>\n",
       "      <td>3</td>\n",
       "      <td>The Big Bang Theory</td>\n",
       "      <td>(2007 TV Series)</td>\n",
       "      <td>22 mins.</td>\n",
       "      <td>8.5</td>\n",
       "      <td>438,226</td>\n",
       "      <td>[u'Comedy']</td>\n",
       "      <td>A woman who moves into an apartment across the...</td>\n",
       "    </tr>\n",
       "    <tr>\n",
       "      <th>4</th>\n",
       "      <td>4</td>\n",
       "      <td>Dexter</td>\n",
       "      <td>(2006 TV Series)</td>\n",
       "      <td>55 mins.</td>\n",
       "      <td>8.9</td>\n",
       "      <td>419,031</td>\n",
       "      <td>[u'Crime', u'Drama', u'Mystery', u'Thriller']</td>\n",
       "      <td>A Miami police forensics expert moonlights as ...</td>\n",
       "    </tr>\n",
       "    <tr>\n",
       "      <th>...</th>\n",
       "      <td>...</td>\n",
       "      <td>...</td>\n",
       "      <td>...</td>\n",
       "      <td>...</td>\n",
       "      <td>...</td>\n",
       "      <td>...</td>\n",
       "      <td>...</td>\n",
       "      <td>...</td>\n",
       "    </tr>\n",
       "    <tr>\n",
       "      <th>1969</th>\n",
       "      <td>1969</td>\n",
       "      <td>Cristela</td>\n",
       "      <td>(2014 TV Series)</td>\n",
       "      <td>30 mins.</td>\n",
       "      <td>6.3</td>\n",
       "      <td>1,510</td>\n",
       "      <td>[u'Comedy']</td>\n",
       "      <td>In her sixth year of law school, Cristela is f...</td>\n",
       "    </tr>\n",
       "    <tr>\n",
       "      <th>1970</th>\n",
       "      <td>1970</td>\n",
       "      <td>Power Rangers in Space</td>\n",
       "      <td>(1998 TV Series)</td>\n",
       "      <td>30 mins.</td>\n",
       "      <td>7.2</td>\n",
       "      <td>1,504</td>\n",
       "      <td>[u'Action', u'Adventure', u'Family', u'Sci-Fi']</td>\n",
       "      <td>The most evil forces of the universe (Rita &amp;am...</td>\n",
       "    </tr>\n",
       "    <tr>\n",
       "      <th>1971</th>\n",
       "      <td>1971</td>\n",
       "      <td>Reading Rainbow</td>\n",
       "      <td>(1983 TV Series)</td>\n",
       "      <td>30 mins.</td>\n",
       "      <td>8.5</td>\n",
       "      <td>1,501</td>\n",
       "      <td>[u'Family']</td>\n",
       "      <td>Levar Burton introduces young viewers to illus...</td>\n",
       "    </tr>\n",
       "    <tr>\n",
       "      <th>1972</th>\n",
       "      <td>1972</td>\n",
       "      <td>Martial Law</td>\n",
       "      <td>(1998 TV Series)</td>\n",
       "      <td>45 mins.</td>\n",
       "      <td>7.1</td>\n",
       "      <td>1,501</td>\n",
       "      <td>[u'Comedy', u'Crime', u'Action']</td>\n",
       "      <td>A Shanghai cop who is a master of martial arts...</td>\n",
       "    </tr>\n",
       "    <tr>\n",
       "      <th>1973</th>\n",
       "      <td>1973</td>\n",
       "      <td>Beast Machines: Transformers</td>\n",
       "      <td>(1999 TV Series)</td>\n",
       "      <td>30 mins.</td>\n",
       "      <td>6.9</td>\n",
       "      <td>1,500</td>\n",
       "      <td>[u'Action', u'Animation', u'Sci-Fi']</td>\n",
       "      <td>The Maximals awaken on their home planet of Cy...</td>\n",
       "    </tr>\n",
       "  </tbody>\n",
       "</table>\n",
       "<p>1974 rows × 8 columns</p>\n",
       "</div>"
      ],
      "text/plain": [
       "      Unnamed: 0                         title              year   runtime  \\\n",
       "0              0               Game of Thrones  (2011 TV Series)  55 mins.   \n",
       "1              1                  Breaking Bad  (2008 TV Series)  45 mins.   \n",
       "2              2              The Walking Dead  (2010 TV Series)  44 mins.   \n",
       "3              3           The Big Bang Theory  (2007 TV Series)  22 mins.   \n",
       "4              4                        Dexter  (2006 TV Series)  55 mins.   \n",
       "...          ...                           ...               ...       ...   \n",
       "1969        1969                      Cristela  (2014 TV Series)  30 mins.   \n",
       "1970        1970        Power Rangers in Space  (1998 TV Series)  30 mins.   \n",
       "1971        1971               Reading Rainbow  (1983 TV Series)  30 mins.   \n",
       "1972        1972                   Martial Law  (1998 TV Series)  45 mins.   \n",
       "1973        1973  Beast Machines: Transformers  (1999 TV Series)  30 mins.   \n",
       "\n",
       "      rating    votes                                            genre  \\\n",
       "0        9.5  748,557             [u'Adventure', u'Drama', u'Fantasy']   \n",
       "1        9.5  662,459                [u'Crime', u'Drama', u'Thriller']   \n",
       "2        8.7  500,301                            [u'Drama', u'Horror']   \n",
       "3        8.5  438,226                                      [u'Comedy']   \n",
       "4        8.9  419,031    [u'Crime', u'Drama', u'Mystery', u'Thriller']   \n",
       "...      ...      ...                                              ...   \n",
       "1969     6.3    1,510                                      [u'Comedy']   \n",
       "1970     7.2    1,504  [u'Action', u'Adventure', u'Family', u'Sci-Fi']   \n",
       "1971     8.5    1,501                                      [u'Family']   \n",
       "1972     7.1    1,501                 [u'Comedy', u'Crime', u'Action']   \n",
       "1973     6.9    1,500             [u'Action', u'Animation', u'Sci-Fi']   \n",
       "\n",
       "                                                   text  \n",
       "0     Several noble families fight for control of th...  \n",
       "1     A chemistry teacher diagnosed with a terminal ...  \n",
       "2     Sheriff's Deputy Rick Grimes leads a group of ...  \n",
       "3     A woman who moves into an apartment across the...  \n",
       "4     A Miami police forensics expert moonlights as ...  \n",
       "...                                                 ...  \n",
       "1969  In her sixth year of law school, Cristela is f...  \n",
       "1970  The most evil forces of the universe (Rita &am...  \n",
       "1971  Levar Burton introduces young viewers to illus...  \n",
       "1972  A Shanghai cop who is a master of martial arts...  \n",
       "1973  The Maximals awaken on their home planet of Cy...  \n",
       "\n",
       "[1974 rows x 8 columns]"
      ]
     },
     "execution_count": 117,
     "metadata": {},
     "output_type": "execute_result"
    }
   ],
   "source": [
    "df"
   ]
  },
  {
   "cell_type": "code",
   "execution_count": 123,
   "metadata": {},
   "outputs": [
    {
     "data": {
      "text/html": [
       "<div>\n",
       "<style scoped>\n",
       "    .dataframe tbody tr th:only-of-type {\n",
       "        vertical-align: middle;\n",
       "    }\n",
       "\n",
       "    .dataframe tbody tr th {\n",
       "        vertical-align: top;\n",
       "    }\n",
       "\n",
       "    .dataframe thead th {\n",
       "        text-align: right;\n",
       "    }\n",
       "</style>\n",
       "<table border=\"1\" class=\"dataframe\">\n",
       "  <thead>\n",
       "    <tr style=\"text-align: right;\">\n",
       "      <th></th>\n",
       "      <th>Unnamed: 0</th>\n",
       "      <th>title</th>\n",
       "      <th>year</th>\n",
       "      <th>runtime</th>\n",
       "      <th>rating</th>\n",
       "      <th>votes</th>\n",
       "      <th>genre</th>\n",
       "      <th>text</th>\n",
       "    </tr>\n",
       "  </thead>\n",
       "  <tbody>\n",
       "    <tr>\n",
       "      <th>0</th>\n",
       "      <td>0</td>\n",
       "      <td>Game of Thrones</td>\n",
       "      <td>(2011 TV Series)</td>\n",
       "      <td>55 mins.</td>\n",
       "      <td>9.5</td>\n",
       "      <td>748,557</td>\n",
       "      <td>[u'Adventure', u'Drama', u'Fantasy']</td>\n",
       "      <td>Several noble families fight for control of th...</td>\n",
       "    </tr>\n",
       "    <tr>\n",
       "      <th>1</th>\n",
       "      <td>1</td>\n",
       "      <td>Breaking Bad</td>\n",
       "      <td>(2008 TV Series)</td>\n",
       "      <td>45 mins.</td>\n",
       "      <td>9.5</td>\n",
       "      <td>662,459</td>\n",
       "      <td>[u'Crime', u'Drama', u'Thriller']</td>\n",
       "      <td>A chemistry teacher diagnosed with a terminal ...</td>\n",
       "    </tr>\n",
       "    <tr>\n",
       "      <th>2</th>\n",
       "      <td>2</td>\n",
       "      <td>The Walking Dead</td>\n",
       "      <td>(2010 TV Series)</td>\n",
       "      <td>44 mins.</td>\n",
       "      <td>8.7</td>\n",
       "      <td>500,301</td>\n",
       "      <td>[u'Drama', u'Horror']</td>\n",
       "      <td>Sheriff's Deputy Rick Grimes leads a group of ...</td>\n",
       "    </tr>\n",
       "    <tr>\n",
       "      <th>3</th>\n",
       "      <td>3</td>\n",
       "      <td>The Big Bang Theory</td>\n",
       "      <td>(2007 TV Series)</td>\n",
       "      <td>22 mins.</td>\n",
       "      <td>8.5</td>\n",
       "      <td>438,226</td>\n",
       "      <td>[u'Comedy']</td>\n",
       "      <td>A woman who moves into an apartment across the...</td>\n",
       "    </tr>\n",
       "    <tr>\n",
       "      <th>4</th>\n",
       "      <td>4</td>\n",
       "      <td>Dexter</td>\n",
       "      <td>(2006 TV Series)</td>\n",
       "      <td>55 mins.</td>\n",
       "      <td>8.9</td>\n",
       "      <td>419,031</td>\n",
       "      <td>[u'Crime', u'Drama', u'Mystery', u'Thriller']</td>\n",
       "      <td>A Miami police forensics expert moonlights as ...</td>\n",
       "    </tr>\n",
       "  </tbody>\n",
       "</table>\n",
       "</div>"
      ],
      "text/plain": [
       "   Unnamed: 0                title              year   runtime  rating  \\\n",
       "0           0      Game of Thrones  (2011 TV Series)  55 mins.     9.5   \n",
       "1           1         Breaking Bad  (2008 TV Series)  45 mins.     9.5   \n",
       "2           2     The Walking Dead  (2010 TV Series)  44 mins.     8.7   \n",
       "3           3  The Big Bang Theory  (2007 TV Series)  22 mins.     8.5   \n",
       "4           4               Dexter  (2006 TV Series)  55 mins.     8.9   \n",
       "\n",
       "     votes                                          genre  \\\n",
       "0  748,557           [u'Adventure', u'Drama', u'Fantasy']   \n",
       "1  662,459              [u'Crime', u'Drama', u'Thriller']   \n",
       "2  500,301                          [u'Drama', u'Horror']   \n",
       "3  438,226                                    [u'Comedy']   \n",
       "4  419,031  [u'Crime', u'Drama', u'Mystery', u'Thriller']   \n",
       "\n",
       "                                                text  \n",
       "0  Several noble families fight for control of th...  \n",
       "1  A chemistry teacher diagnosed with a terminal ...  \n",
       "2  Sheriff's Deputy Rick Grimes leads a group of ...  \n",
       "3  A woman who moves into an apartment across the...  \n",
       "4  A Miami police forensics expert moonlights as ...  "
      ]
     },
     "execution_count": 123,
     "metadata": {},
     "output_type": "execute_result"
    }
   ],
   "source": [
    "#get a preview\n",
    "df.head()"
   ]
  },
  {
   "cell_type": "code",
   "execution_count": 125,
   "metadata": {},
   "outputs": [
    {
     "data": {
      "text/plain": [
       "Index(['Unnamed: 0', 'title', 'year', 'runtime', 'rating', 'votes', 'genre',\n",
       "       'text'],\n",
       "      dtype='object')"
      ]
     },
     "execution_count": 125,
     "metadata": {},
     "output_type": "execute_result"
    }
   ],
   "source": [
    "#what columns of the csv file\n",
    "df.columns"
   ]
  },
  {
   "cell_type": "code",
   "execution_count": 127,
   "metadata": {},
   "outputs": [
    {
     "data": {
      "text/plain": [
       "Unnamed: 0    1974\n",
       "title         1974\n",
       "year          1974\n",
       "runtime       1814\n",
       "rating        1974\n",
       "votes         1974\n",
       "genre         1970\n",
       "text          1941\n",
       "dtype: int64"
      ]
     },
     "execution_count": 127,
     "metadata": {},
     "output_type": "execute_result"
    }
   ],
   "source": [
    "# Return the number of not empty cells for each column/row\n",
    "df.count()"
   ]
  },
  {
   "cell_type": "code",
   "execution_count": 129,
   "metadata": {},
   "outputs": [
    {
     "data": {
      "text/plain": [
       "Unnamed: 0    1974\n",
       "title         1974\n",
       "year          1974\n",
       "runtime       1814\n",
       "rating        1974\n",
       "votes         1974\n",
       "genre         1970\n",
       "text          1941\n",
       "dtype: int64"
      ]
     },
     "execution_count": 129,
     "metadata": {},
     "output_type": "execute_result"
    }
   ],
   "source": [
    "#clean the data\n",
    "df2 = df.dropna()\n",
    "df.count()"
   ]
  },
  {
   "cell_type": "code",
   "execution_count": 133,
   "metadata": {},
   "outputs": [
    {
     "data": {
      "text/html": [
       "<div>\n",
       "<style scoped>\n",
       "    .dataframe tbody tr th:only-of-type {\n",
       "        vertical-align: middle;\n",
       "    }\n",
       "\n",
       "    .dataframe tbody tr th {\n",
       "        vertical-align: top;\n",
       "    }\n",
       "\n",
       "    .dataframe thead th {\n",
       "        text-align: right;\n",
       "    }\n",
       "</style>\n",
       "<table border=\"1\" class=\"dataframe\">\n",
       "  <thead>\n",
       "    <tr style=\"text-align: right;\">\n",
       "      <th></th>\n",
       "      <th>title</th>\n",
       "      <th>year</th>\n",
       "      <th>rating</th>\n",
       "      <th>votes</th>\n",
       "    </tr>\n",
       "  </thead>\n",
       "  <tbody>\n",
       "    <tr>\n",
       "      <th>0</th>\n",
       "      <td>Game of Thrones</td>\n",
       "      <td>(2011 TV Series)</td>\n",
       "      <td>9.5</td>\n",
       "      <td>748,557</td>\n",
       "    </tr>\n",
       "    <tr>\n",
       "      <th>1</th>\n",
       "      <td>Breaking Bad</td>\n",
       "      <td>(2008 TV Series)</td>\n",
       "      <td>9.5</td>\n",
       "      <td>662,459</td>\n",
       "    </tr>\n",
       "    <tr>\n",
       "      <th>2</th>\n",
       "      <td>The Walking Dead</td>\n",
       "      <td>(2010 TV Series)</td>\n",
       "      <td>8.7</td>\n",
       "      <td>500,301</td>\n",
       "    </tr>\n",
       "    <tr>\n",
       "      <th>3</th>\n",
       "      <td>The Big Bang Theory</td>\n",
       "      <td>(2007 TV Series)</td>\n",
       "      <td>8.5</td>\n",
       "      <td>438,226</td>\n",
       "    </tr>\n",
       "    <tr>\n",
       "      <th>4</th>\n",
       "      <td>Dexter</td>\n",
       "      <td>(2006 TV Series)</td>\n",
       "      <td>8.9</td>\n",
       "      <td>419,031</td>\n",
       "    </tr>\n",
       "  </tbody>\n",
       "</table>\n",
       "</div>"
      ],
      "text/plain": [
       "                 title              year  rating    votes\n",
       "0      Game of Thrones  (2011 TV Series)     9.5  748,557\n",
       "1         Breaking Bad  (2008 TV Series)     9.5  662,459\n",
       "2     The Walking Dead  (2010 TV Series)     8.7  500,301\n",
       "3  The Big Bang Theory  (2007 TV Series)     8.5  438,226\n",
       "4               Dexter  (2006 TV Series)     8.9  419,031"
      ]
     },
     "execution_count": 133,
     "metadata": {},
     "output_type": "execute_result"
    }
   ],
   "source": [
    "#only import the columns [\"title\", \"year\", \"rating\", \"votes\"]\n",
    "df3 = pd.read_csv('Data_txtFiles/tv_shows.csv', usecols = ['title', 'year', 'rating', 'votes'])\n",
    "df3.head()"
   ]
  },
  {
   "cell_type": "code",
   "execution_count": 135,
   "metadata": {},
   "outputs": [
    {
     "data": {
      "text/plain": [
       "title     1974\n",
       "year      1974\n",
       "rating    1974\n",
       "votes     1974\n",
       "dtype: int64"
      ]
     },
     "execution_count": 135,
     "metadata": {},
     "output_type": "execute_result"
    }
   ],
   "source": [
    "df3.count()"
   ]
  },
  {
   "cell_type": "code",
   "execution_count": 137,
   "metadata": {},
   "outputs": [
    {
     "data": {
      "text/plain": [
       "9.6"
      ]
     },
     "execution_count": 137,
     "metadata": {},
     "output_type": "execute_result"
    }
   ],
   "source": [
    "#what is the maximum rating? \n",
    "df3['rating'].max()"
   ]
  },
  {
   "cell_type": "code",
   "execution_count": 139,
   "metadata": {},
   "outputs": [
    {
     "data": {
      "text/plain": [
       "1.8"
      ]
     },
     "execution_count": 139,
     "metadata": {},
     "output_type": "execute_result"
    }
   ],
   "source": [
    "#what is the minimum rating?\n",
    "df3['rating'].min()"
   ]
  },
  {
   "cell_type": "code",
   "execution_count": 143,
   "metadata": {},
   "outputs": [
    {
     "data": {
      "text/plain": [
       "7.486524822695036"
      ]
     },
     "execution_count": 143,
     "metadata": {},
     "output_type": "execute_result"
    }
   ],
   "source": [
    "#find the avg of all of the ratings\n",
    "avgNum = df3['rating'].mean()\n",
    "avgNum"
   ]
  },
  {
   "cell_type": "code",
   "execution_count": 147,
   "metadata": {},
   "outputs": [
    {
     "data": {
      "text/html": [
       "<div>\n",
       "<style scoped>\n",
       "    .dataframe tbody tr th:only-of-type {\n",
       "        vertical-align: middle;\n",
       "    }\n",
       "\n",
       "    .dataframe tbody tr th {\n",
       "        vertical-align: top;\n",
       "    }\n",
       "\n",
       "    .dataframe thead th {\n",
       "        text-align: right;\n",
       "    }\n",
       "</style>\n",
       "<table border=\"1\" class=\"dataframe\">\n",
       "  <thead>\n",
       "    <tr style=\"text-align: right;\">\n",
       "      <th></th>\n",
       "      <th>title</th>\n",
       "      <th>year</th>\n",
       "      <th>rating</th>\n",
       "      <th>votes</th>\n",
       "    </tr>\n",
       "  </thead>\n",
       "  <tbody>\n",
       "    <tr>\n",
       "      <th>0</th>\n",
       "      <td>Game of Thrones</td>\n",
       "      <td>(2011 TV Series)</td>\n",
       "      <td>9.5</td>\n",
       "      <td>748,557</td>\n",
       "    </tr>\n",
       "    <tr>\n",
       "      <th>1</th>\n",
       "      <td>Breaking Bad</td>\n",
       "      <td>(2008 TV Series)</td>\n",
       "      <td>9.5</td>\n",
       "      <td>662,459</td>\n",
       "    </tr>\n",
       "    <tr>\n",
       "      <th>2</th>\n",
       "      <td>The Walking Dead</td>\n",
       "      <td>(2010 TV Series)</td>\n",
       "      <td>8.7</td>\n",
       "      <td>500,301</td>\n",
       "    </tr>\n",
       "    <tr>\n",
       "      <th>3</th>\n",
       "      <td>The Big Bang Theory</td>\n",
       "      <td>(2007 TV Series)</td>\n",
       "      <td>8.5</td>\n",
       "      <td>438,226</td>\n",
       "    </tr>\n",
       "    <tr>\n",
       "      <th>4</th>\n",
       "      <td>Dexter</td>\n",
       "      <td>(2006 TV Series)</td>\n",
       "      <td>8.9</td>\n",
       "      <td>419,031</td>\n",
       "    </tr>\n",
       "  </tbody>\n",
       "</table>\n",
       "</div>"
      ],
      "text/plain": [
       "                 title              year  rating    votes\n",
       "0      Game of Thrones  (2011 TV Series)     9.5  748,557\n",
       "1         Breaking Bad  (2008 TV Series)     9.5  662,459\n",
       "2     The Walking Dead  (2010 TV Series)     8.7  500,301\n",
       "3  The Big Bang Theory  (2007 TV Series)     8.5  438,226\n",
       "4               Dexter  (2006 TV Series)     8.9  419,031"
      ]
     },
     "execution_count": 147,
     "metadata": {},
     "output_type": "execute_result"
    }
   ],
   "source": [
    "df3.head()"
   ]
  },
  {
   "cell_type": "code",
   "execution_count": 151,
   "metadata": {},
   "outputs": [
    {
     "data": {
      "text/plain": [
       "title      object\n",
       "year       object\n",
       "rating    float64\n",
       "votes      object\n",
       "dtype: object"
      ]
     },
     "execution_count": 151,
     "metadata": {},
     "output_type": "execute_result"
    }
   ],
   "source": [
    "#what data types are in the dataframe? \n",
    "df3.dtypes"
   ]
  },
  {
   "cell_type": "code",
   "execution_count": 161,
   "metadata": {},
   "outputs": [
    {
     "data": {
      "text/html": [
       "<div>\n",
       "<style scoped>\n",
       "    .dataframe tbody tr th:only-of-type {\n",
       "        vertical-align: middle;\n",
       "    }\n",
       "\n",
       "    .dataframe tbody tr th {\n",
       "        vertical-align: top;\n",
       "    }\n",
       "\n",
       "    .dataframe thead th {\n",
       "        text-align: right;\n",
       "    }\n",
       "</style>\n",
       "<table border=\"1\" class=\"dataframe\">\n",
       "  <thead>\n",
       "    <tr style=\"text-align: right;\">\n",
       "      <th></th>\n",
       "      <th>year</th>\n",
       "      <th>rating</th>\n",
       "      <th>votes</th>\n",
       "    </tr>\n",
       "    <tr>\n",
       "      <th>title</th>\n",
       "      <th></th>\n",
       "      <th></th>\n",
       "      <th></th>\n",
       "    </tr>\n",
       "  </thead>\n",
       "  <tbody>\n",
       "    <tr>\n",
       "      <th>Game of Thrones</th>\n",
       "      <td>(2011 TV Series)</td>\n",
       "      <td>9.5</td>\n",
       "      <td>748,557</td>\n",
       "    </tr>\n",
       "    <tr>\n",
       "      <th>Breaking Bad</th>\n",
       "      <td>(2008 TV Series)</td>\n",
       "      <td>9.5</td>\n",
       "      <td>662,459</td>\n",
       "    </tr>\n",
       "    <tr>\n",
       "      <th>The Walking Dead</th>\n",
       "      <td>(2010 TV Series)</td>\n",
       "      <td>8.7</td>\n",
       "      <td>500,301</td>\n",
       "    </tr>\n",
       "    <tr>\n",
       "      <th>The Big Bang Theory</th>\n",
       "      <td>(2007 TV Series)</td>\n",
       "      <td>8.5</td>\n",
       "      <td>438,226</td>\n",
       "    </tr>\n",
       "    <tr>\n",
       "      <th>Dexter</th>\n",
       "      <td>(2006 TV Series)</td>\n",
       "      <td>8.9</td>\n",
       "      <td>419,031</td>\n",
       "    </tr>\n",
       "  </tbody>\n",
       "</table>\n",
       "</div>"
      ],
      "text/plain": [
       "                                 year  rating    votes\n",
       "title                                                 \n",
       "Game of Thrones      (2011 TV Series)     9.5  748,557\n",
       "Breaking Bad         (2008 TV Series)     9.5  662,459\n",
       "The Walking Dead     (2010 TV Series)     8.7  500,301\n",
       "The Big Bang Theory  (2007 TV Series)     8.5  438,226\n",
       "Dexter               (2006 TV Series)     8.9  419,031"
      ]
     },
     "execution_count": 161,
     "metadata": {},
     "output_type": "execute_result"
    }
   ],
   "source": [
    "#set the index to be the names of the tv show. (hint: Make index the title)\n",
    "df4 = df3.set_index('title')\n",
    "df4.head()"
   ]
  },
  {
   "cell_type": "code",
   "execution_count": 163,
   "metadata": {},
   "outputs": [
    {
     "data": {
      "text/plain": [
       "title\n",
       "Game of Thrones                 (2011 TV Series)\n",
       "Breaking Bad                    (2008 TV Series)\n",
       "The Walking Dead                (2010 TV Series)\n",
       "The Big Bang Theory             (2007 TV Series)\n",
       "Dexter                          (2006 TV Series)\n",
       "                                      ...       \n",
       "Cristela                        (2014 TV Series)\n",
       "Power Rangers in Space          (1998 TV Series)\n",
       "Reading Rainbow                 (1983 TV Series)\n",
       "Martial Law                     (1998 TV Series)\n",
       "Beast Machines: Transformers    (1999 TV Series)\n",
       "Name: year, Length: 1974, dtype: object"
      ]
     },
     "execution_count": 163,
     "metadata": {},
     "output_type": "execute_result"
    }
   ],
   "source": [
    "#get the year of hte new dataframe\n",
    "df4['year']"
   ]
  },
  {
   "cell_type": "markdown",
   "metadata": {},
   "source": [
    "<!--  -->"
   ]
  },
  {
   "cell_type": "markdown",
   "metadata": {},
   "source": [
    "### .json files\n",
    "\n",
    "**pd.read_json**\n",
    "\n",
    "JSON = Python Dictionary\n",
    "\n",
    "JSON objects have the same format as Python dictionaries. If your JSON code is not in a file, but in a Python Dictionary, you can load it into a DataFrame directly."
   ]
  },
  {
   "cell_type": "code",
   "execution_count": 165,
   "metadata": {},
   "outputs": [],
   "source": [
    "dataJson = {\n",
    "    'item1':{\n",
    "        \"0\":60,\n",
    "        \"1\":60,\n",
    "        \"2\":60\n",
    "    },\n",
    "    'item2':{\n",
    "        '0':100,\n",
    "        '1':100,\n",
    "        '2':100\n",
    "    }\n",
    "}\n",
    "\n"
   ]
  },
  {
   "cell_type": "code",
   "execution_count": 168,
   "metadata": {},
   "outputs": [],
   "source": [
    "dfjson = pd.DataFrame(dataJson)"
   ]
  },
  {
   "cell_type": "code",
   "execution_count": 172,
   "metadata": {},
   "outputs": [
    {
     "data": {
      "text/html": [
       "<div>\n",
       "<style scoped>\n",
       "    .dataframe tbody tr th:only-of-type {\n",
       "        vertical-align: middle;\n",
       "    }\n",
       "\n",
       "    .dataframe tbody tr th {\n",
       "        vertical-align: top;\n",
       "    }\n",
       "\n",
       "    .dataframe thead th {\n",
       "        text-align: right;\n",
       "    }\n",
       "</style>\n",
       "<table border=\"1\" class=\"dataframe\">\n",
       "  <thead>\n",
       "    <tr style=\"text-align: right;\">\n",
       "      <th></th>\n",
       "      <th>area</th>\n",
       "      <th>coordinates</th>\n",
       "      <th>date_established_readable</th>\n",
       "      <th>date_established_unix</th>\n",
       "      <th>description</th>\n",
       "      <th>image</th>\n",
       "      <th>nps_link</th>\n",
       "      <th>states</th>\n",
       "      <th>title</th>\n",
       "      <th>id</th>\n",
       "      <th>visitors</th>\n",
       "      <th>world_heritage_site</th>\n",
       "    </tr>\n",
       "  </thead>\n",
       "  <tbody>\n",
       "    <tr>\n",
       "      <th>0</th>\n",
       "      <td>{'acres': '49,057.36', 'square_km': '198.5'}</td>\n",
       "      <td>{'latitude': 44.35, 'longitude': -68.21}</td>\n",
       "      <td>February 26, 1919</td>\n",
       "      <td>-1604599200</td>\n",
       "      <td>Covering most of Mount Desert Island and other...</td>\n",
       "      <td>{'url': 'acadia.jpg', 'attribution': 'PixelBay...</td>\n",
       "      <td>https://www.nps.gov/acad/index.htm</td>\n",
       "      <td>[{'id': 'state_maine', 'title': 'Maine'}]</td>\n",
       "      <td>Acadia</td>\n",
       "      <td>park_acadia</td>\n",
       "      <td>3,303,393</td>\n",
       "      <td>False</td>\n",
       "    </tr>\n",
       "    <tr>\n",
       "      <th>1</th>\n",
       "      <td>{'acres': '8,256.67', 'square_km': '33.4'}</td>\n",
       "      <td>{'latitude': -14.25, 'longitude': -170.68}</td>\n",
       "      <td>October 31, 1988</td>\n",
       "      <td>594280800</td>\n",
       "      <td>The southernmost National Park is on three Sam...</td>\n",
       "      <td>{'url': 'american-samoa.jpg', 'attribution': '...</td>\n",
       "      <td>https://www.nps.gov/npsa/index.htm</td>\n",
       "      <td>[{'id': 'state_american-samoa', 'title': 'Amer...</td>\n",
       "      <td>American Samoa</td>\n",
       "      <td>park_american-samoa</td>\n",
       "      <td>28,892</td>\n",
       "      <td>False</td>\n",
       "    </tr>\n",
       "    <tr>\n",
       "      <th>2</th>\n",
       "      <td>{'acres': '76,678.98', 'square_km': '310.3'}</td>\n",
       "      <td>{'latitude': 38.68, 'longitude': -109.57}</td>\n",
       "      <td>November 12, 1971</td>\n",
       "      <td>58773600</td>\n",
       "      <td>This site features more than 2,000 natural san...</td>\n",
       "      <td>{'url': 'arches.jpg', 'attribution': 'PixelBay...</td>\n",
       "      <td>https://www.nps.gov/arch/index.htm</td>\n",
       "      <td>[{'id': 'state_utah', 'title': 'Utah'}]</td>\n",
       "      <td>Arches</td>\n",
       "      <td>park_arches</td>\n",
       "      <td>1,585,718</td>\n",
       "      <td>False</td>\n",
       "    </tr>\n",
       "    <tr>\n",
       "      <th>3</th>\n",
       "      <td>{'acres': '242,755.94', 'square_km': '982.4'}</td>\n",
       "      <td>{'latitude': 43.75, 'longitude': -102.5}</td>\n",
       "      <td>November 10, 1978</td>\n",
       "      <td>279525600</td>\n",
       "      <td>The Badlands are a collection of buttes, pinna...</td>\n",
       "      <td>{'url': 'badlands.jpg', 'attribution': 'PixelB...</td>\n",
       "      <td>https://www.nps.gov/badl/index.htm</td>\n",
       "      <td>[{'id': 'state_south-dakota', 'title': 'South ...</td>\n",
       "      <td>Badlands</td>\n",
       "      <td>park_badlands</td>\n",
       "      <td>996,263</td>\n",
       "      <td>False</td>\n",
       "    </tr>\n",
       "    <tr>\n",
       "      <th>4</th>\n",
       "      <td>{'acres': '801,163.21', 'square_km': '3,242.2'}</td>\n",
       "      <td>{'latitude': 29.25, 'longitude': -103.25}</td>\n",
       "      <td>June 12, 1944</td>\n",
       "      <td>-806439600</td>\n",
       "      <td>Named for the prominent bend in the Rio Grande...</td>\n",
       "      <td>{'url': 'big-bend.jpg', 'attribution': 'PixelB...</td>\n",
       "      <td>https://www.nps.gov/bibe/index.htm</td>\n",
       "      <td>[{'id': 'state_texas', 'title': 'Texas'}]</td>\n",
       "      <td>Big Bend</td>\n",
       "      <td>park_big-bend</td>\n",
       "      <td>388,290</td>\n",
       "      <td>False</td>\n",
       "    </tr>\n",
       "  </tbody>\n",
       "</table>\n",
       "</div>"
      ],
      "text/plain": [
       "                                              area  \\\n",
       "0     {'acres': '49,057.36', 'square_km': '198.5'}   \n",
       "1       {'acres': '8,256.67', 'square_km': '33.4'}   \n",
       "2     {'acres': '76,678.98', 'square_km': '310.3'}   \n",
       "3    {'acres': '242,755.94', 'square_km': '982.4'}   \n",
       "4  {'acres': '801,163.21', 'square_km': '3,242.2'}   \n",
       "\n",
       "                                  coordinates date_established_readable  \\\n",
       "0    {'latitude': 44.35, 'longitude': -68.21}         February 26, 1919   \n",
       "1  {'latitude': -14.25, 'longitude': -170.68}          October 31, 1988   \n",
       "2   {'latitude': 38.68, 'longitude': -109.57}         November 12, 1971   \n",
       "3    {'latitude': 43.75, 'longitude': -102.5}         November 10, 1978   \n",
       "4   {'latitude': 29.25, 'longitude': -103.25}             June 12, 1944   \n",
       "\n",
       "   date_established_unix                                        description  \\\n",
       "0            -1604599200  Covering most of Mount Desert Island and other...   \n",
       "1              594280800  The southernmost National Park is on three Sam...   \n",
       "2               58773600  This site features more than 2,000 natural san...   \n",
       "3              279525600  The Badlands are a collection of buttes, pinna...   \n",
       "4             -806439600  Named for the prominent bend in the Rio Grande...   \n",
       "\n",
       "                                               image  \\\n",
       "0  {'url': 'acadia.jpg', 'attribution': 'PixelBay...   \n",
       "1  {'url': 'american-samoa.jpg', 'attribution': '...   \n",
       "2  {'url': 'arches.jpg', 'attribution': 'PixelBay...   \n",
       "3  {'url': 'badlands.jpg', 'attribution': 'PixelB...   \n",
       "4  {'url': 'big-bend.jpg', 'attribution': 'PixelB...   \n",
       "\n",
       "                             nps_link  \\\n",
       "0  https://www.nps.gov/acad/index.htm   \n",
       "1  https://www.nps.gov/npsa/index.htm   \n",
       "2  https://www.nps.gov/arch/index.htm   \n",
       "3  https://www.nps.gov/badl/index.htm   \n",
       "4  https://www.nps.gov/bibe/index.htm   \n",
       "\n",
       "                                              states           title  \\\n",
       "0          [{'id': 'state_maine', 'title': 'Maine'}]          Acadia   \n",
       "1  [{'id': 'state_american-samoa', 'title': 'Amer...  American Samoa   \n",
       "2            [{'id': 'state_utah', 'title': 'Utah'}]          Arches   \n",
       "3  [{'id': 'state_south-dakota', 'title': 'South ...        Badlands   \n",
       "4          [{'id': 'state_texas', 'title': 'Texas'}]        Big Bend   \n",
       "\n",
       "                    id   visitors  world_heritage_site  \n",
       "0          park_acadia  3,303,393                False  \n",
       "1  park_american-samoa     28,892                False  \n",
       "2          park_arches  1,585,718                False  \n",
       "3        park_badlands    996,263                False  \n",
       "4        park_big-bend    388,290                False  "
      ]
     },
     "execution_count": 172,
     "metadata": {},
     "output_type": "execute_result"
    }
   ],
   "source": [
    "#read in nationalParks.json\n",
    "df = pd.read_json('Data_txtFiles/nationalparks.json')\n",
    "df.head()"
   ]
  },
  {
   "cell_type": "code",
   "execution_count": 219,
   "metadata": {},
   "outputs": [
    {
     "data": {
      "text/plain": [
       "area                         object\n",
       "coordinates                  object\n",
       "date_established_readable    object\n",
       "date_established_unix         int64\n",
       "description                  object\n",
       "image                        object\n",
       "nps_link                     object\n",
       "states                       object\n",
       "title                        object\n",
       "id                           object\n",
       "visitors                     object\n",
       "world_heritage_site            bool\n",
       "dtype: object"
      ]
     },
     "execution_count": 219,
     "metadata": {},
     "output_type": "execute_result"
    }
   ],
   "source": [
    "df.dtypes"
   ]
  },
  {
   "cell_type": "code",
   "execution_count": 221,
   "metadata": {},
   "outputs": [
    {
     "data": {
      "text/html": [
       "<div>\n",
       "<style scoped>\n",
       "    .dataframe tbody tr th:only-of-type {\n",
       "        vertical-align: middle;\n",
       "    }\n",
       "\n",
       "    .dataframe tbody tr th {\n",
       "        vertical-align: top;\n",
       "    }\n",
       "\n",
       "    .dataframe thead th {\n",
       "        text-align: right;\n",
       "    }\n",
       "</style>\n",
       "<table border=\"1\" class=\"dataframe\">\n",
       "  <thead>\n",
       "    <tr style=\"text-align: right;\">\n",
       "      <th></th>\n",
       "      <th>title</th>\n",
       "      <th>visitors</th>\n",
       "      <th>date_established_readable</th>\n",
       "      <th>description</th>\n",
       "      <th>world_heritage_site</th>\n",
       "      <th>states</th>\n",
       "    </tr>\n",
       "  </thead>\n",
       "  <tbody>\n",
       "    <tr>\n",
       "      <th>0</th>\n",
       "      <td>Acadia</td>\n",
       "      <td>3,303,393</td>\n",
       "      <td>February 26, 1919</td>\n",
       "      <td>Covering most of Mount Desert Island and other...</td>\n",
       "      <td>False</td>\n",
       "      <td>[{'id': 'state_maine', 'title': 'Maine'}]</td>\n",
       "    </tr>\n",
       "    <tr>\n",
       "      <th>1</th>\n",
       "      <td>American Samoa</td>\n",
       "      <td>28,892</td>\n",
       "      <td>October 31, 1988</td>\n",
       "      <td>The southernmost National Park is on three Sam...</td>\n",
       "      <td>False</td>\n",
       "      <td>[{'id': 'state_american-samoa', 'title': 'Amer...</td>\n",
       "    </tr>\n",
       "    <tr>\n",
       "      <th>2</th>\n",
       "      <td>Arches</td>\n",
       "      <td>1,585,718</td>\n",
       "      <td>November 12, 1971</td>\n",
       "      <td>This site features more than 2,000 natural san...</td>\n",
       "      <td>False</td>\n",
       "      <td>[{'id': 'state_utah', 'title': 'Utah'}]</td>\n",
       "    </tr>\n",
       "    <tr>\n",
       "      <th>3</th>\n",
       "      <td>Badlands</td>\n",
       "      <td>996,263</td>\n",
       "      <td>November 10, 1978</td>\n",
       "      <td>The Badlands are a collection of buttes, pinna...</td>\n",
       "      <td>False</td>\n",
       "      <td>[{'id': 'state_south-dakota', 'title': 'South ...</td>\n",
       "    </tr>\n",
       "    <tr>\n",
       "      <th>4</th>\n",
       "      <td>Big Bend</td>\n",
       "      <td>388,290</td>\n",
       "      <td>June 12, 1944</td>\n",
       "      <td>Named for the prominent bend in the Rio Grande...</td>\n",
       "      <td>False</td>\n",
       "      <td>[{'id': 'state_texas', 'title': 'Texas'}]</td>\n",
       "    </tr>\n",
       "  </tbody>\n",
       "</table>\n",
       "</div>"
      ],
      "text/plain": [
       "            title   visitors date_established_readable  \\\n",
       "0          Acadia  3,303,393         February 26, 1919   \n",
       "1  American Samoa     28,892          October 31, 1988   \n",
       "2          Arches  1,585,718         November 12, 1971   \n",
       "3        Badlands    996,263         November 10, 1978   \n",
       "4        Big Bend    388,290             June 12, 1944   \n",
       "\n",
       "                                         description  world_heritage_site  \\\n",
       "0  Covering most of Mount Desert Island and other...                False   \n",
       "1  The southernmost National Park is on three Sam...                False   \n",
       "2  This site features more than 2,000 natural san...                False   \n",
       "3  The Badlands are a collection of buttes, pinna...                False   \n",
       "4  Named for the prominent bend in the Rio Grande...                False   \n",
       "\n",
       "                                              states  \n",
       "0          [{'id': 'state_maine', 'title': 'Maine'}]  \n",
       "1  [{'id': 'state_american-samoa', 'title': 'Amer...  \n",
       "2            [{'id': 'state_utah', 'title': 'Utah'}]  \n",
       "3  [{'id': 'state_south-dakota', 'title': 'South ...  \n",
       "4          [{'id': 'state_texas', 'title': 'Texas'}]  "
      ]
     },
     "execution_count": 221,
     "metadata": {},
     "output_type": "execute_result"
    }
   ],
   "source": [
    "#only get the ['date_established_readable','description', 'title', 'visitors', 'world_heritage_site', 'states ]\n",
    "df2 = df[['title','visitors','date_established_readable','description', 'world_heritage_site', 'states']]\n",
    "df2.head()"
   ]
  },
  {
   "cell_type": "code",
   "execution_count": 223,
   "metadata": {},
   "outputs": [
    {
     "data": {
      "text/plain": [
       "title                        object\n",
       "visitors                     object\n",
       "date_established_readable    object\n",
       "description                  object\n",
       "world_heritage_site            bool\n",
       "states                       object\n",
       "dtype: object"
      ]
     },
     "execution_count": 223,
     "metadata": {},
     "output_type": "execute_result"
    }
   ],
   "source": [
    "#get the datatypes\n",
    "df2.dtypes"
   ]
  },
  {
   "cell_type": "code",
   "execution_count": 225,
   "metadata": {},
   "outputs": [
    {
     "data": {
      "text/plain": [
       "14"
      ]
     },
     "execution_count": 225,
     "metadata": {},
     "output_type": "execute_result"
    }
   ],
   "source": [
    "#find the national parks that are world heritage sites\n",
    "whsNum = df2[df2['world_heritage_site'] == True]\n",
    "len(whsNum)"
   ]
  },
  {
   "cell_type": "markdown",
   "metadata": {},
   "source": [
    "<!--  -->"
   ]
  },
  {
   "cell_type": "markdown",
   "metadata": {},
   "source": [
    "#### Exercise 1: get the national parks with over a million visitors"
   ]
  },
  {
   "cell_type": "code",
   "execution_count": 229,
   "metadata": {},
   "outputs": [
    {
     "data": {
      "text/html": [
       "<div>\n",
       "<style scoped>\n",
       "    .dataframe tbody tr th:only-of-type {\n",
       "        vertical-align: middle;\n",
       "    }\n",
       "\n",
       "    .dataframe tbody tr th {\n",
       "        vertical-align: top;\n",
       "    }\n",
       "\n",
       "    .dataframe thead th {\n",
       "        text-align: right;\n",
       "    }\n",
       "</style>\n",
       "<table border=\"1\" class=\"dataframe\">\n",
       "  <thead>\n",
       "    <tr style=\"text-align: right;\">\n",
       "      <th></th>\n",
       "      <th>title</th>\n",
       "      <th>visitors</th>\n",
       "      <th>date_established_readable</th>\n",
       "      <th>description</th>\n",
       "      <th>world_heritage_site</th>\n",
       "      <th>states</th>\n",
       "    </tr>\n",
       "  </thead>\n",
       "  <tbody>\n",
       "    <tr>\n",
       "      <th>0</th>\n",
       "      <td>Acadia</td>\n",
       "      <td>3,303,393</td>\n",
       "      <td>February 26, 1919</td>\n",
       "      <td>Covering most of Mount Desert Island and other...</td>\n",
       "      <td>False</td>\n",
       "      <td>[{'id': 'state_maine', 'title': 'Maine'}]</td>\n",
       "    </tr>\n",
       "    <tr>\n",
       "      <th>1</th>\n",
       "      <td>American Samoa</td>\n",
       "      <td>28,892</td>\n",
       "      <td>October 31, 1988</td>\n",
       "      <td>The southernmost National Park is on three Sam...</td>\n",
       "      <td>False</td>\n",
       "      <td>[{'id': 'state_american-samoa', 'title': 'Amer...</td>\n",
       "    </tr>\n",
       "    <tr>\n",
       "      <th>2</th>\n",
       "      <td>Arches</td>\n",
       "      <td>1,585,718</td>\n",
       "      <td>November 12, 1971</td>\n",
       "      <td>This site features more than 2,000 natural san...</td>\n",
       "      <td>False</td>\n",
       "      <td>[{'id': 'state_utah', 'title': 'Utah'}]</td>\n",
       "    </tr>\n",
       "    <tr>\n",
       "      <th>3</th>\n",
       "      <td>Badlands</td>\n",
       "      <td>996,263</td>\n",
       "      <td>November 10, 1978</td>\n",
       "      <td>The Badlands are a collection of buttes, pinna...</td>\n",
       "      <td>False</td>\n",
       "      <td>[{'id': 'state_south-dakota', 'title': 'South ...</td>\n",
       "    </tr>\n",
       "    <tr>\n",
       "      <th>4</th>\n",
       "      <td>Big Bend</td>\n",
       "      <td>388,290</td>\n",
       "      <td>June 12, 1944</td>\n",
       "      <td>Named for the prominent bend in the Rio Grande...</td>\n",
       "      <td>False</td>\n",
       "      <td>[{'id': 'state_texas', 'title': 'Texas'}]</td>\n",
       "    </tr>\n",
       "  </tbody>\n",
       "</table>\n",
       "</div>"
      ],
      "text/plain": [
       "            title   visitors date_established_readable  \\\n",
       "0          Acadia  3,303,393         February 26, 1919   \n",
       "1  American Samoa     28,892          October 31, 1988   \n",
       "2          Arches  1,585,718         November 12, 1971   \n",
       "3        Badlands    996,263         November 10, 1978   \n",
       "4        Big Bend    388,290             June 12, 1944   \n",
       "\n",
       "                                         description  world_heritage_site  \\\n",
       "0  Covering most of Mount Desert Island and other...                False   \n",
       "1  The southernmost National Park is on three Sam...                False   \n",
       "2  This site features more than 2,000 natural san...                False   \n",
       "3  The Badlands are a collection of buttes, pinna...                False   \n",
       "4  Named for the prominent bend in the Rio Grande...                False   \n",
       "\n",
       "                                              states  \n",
       "0          [{'id': 'state_maine', 'title': 'Maine'}]  \n",
       "1  [{'id': 'state_american-samoa', 'title': 'Amer...  \n",
       "2            [{'id': 'state_utah', 'title': 'Utah'}]  \n",
       "3  [{'id': 'state_south-dakota', 'title': 'South ...  \n",
       "4          [{'id': 'state_texas', 'title': 'Texas'}]  "
      ]
     },
     "execution_count": 229,
     "metadata": {},
     "output_type": "execute_result"
    }
   ],
   "source": [
    "df2.head()"
   ]
  },
  {
   "cell_type": "code",
   "execution_count": null,
   "metadata": {},
   "outputs": [],
   "source": []
  },
  {
   "cell_type": "code",
   "execution_count": 271,
   "metadata": {},
   "outputs": [
    {
     "name": "stderr",
     "output_type": "stream",
     "text": [
      "/var/folders/x3/ktb8zmvs52zd_gw6_7z20blw0000gn/T/ipykernel_58631/786656043.py:4: SettingWithCopyWarning: \n",
      "A value is trying to be set on a copy of a slice from a DataFrame.\n",
      "Try using .loc[row_indexer,col_indexer] = value instead\n",
      "\n",
      "See the caveats in the documentation: https://pandas.pydata.org/pandas-docs/stable/user_guide/indexing.html#returning-a-view-versus-a-copy\n",
      "  df2_cleanVis['visitors'] = df2_cleanVis['visitors'].replace(',','', regex = True)\n"
     ]
    },
    {
     "data": {
      "text/html": [
       "<div>\n",
       "<style scoped>\n",
       "    .dataframe tbody tr th:only-of-type {\n",
       "        vertical-align: middle;\n",
       "    }\n",
       "\n",
       "    .dataframe tbody tr th {\n",
       "        vertical-align: top;\n",
       "    }\n",
       "\n",
       "    .dataframe thead th {\n",
       "        text-align: right;\n",
       "    }\n",
       "</style>\n",
       "<table border=\"1\" class=\"dataframe\">\n",
       "  <thead>\n",
       "    <tr style=\"text-align: right;\">\n",
       "      <th></th>\n",
       "      <th>title</th>\n",
       "      <th>visitors</th>\n",
       "      <th>date_established_readable</th>\n",
       "      <th>description</th>\n",
       "      <th>world_heritage_site</th>\n",
       "      <th>states</th>\n",
       "    </tr>\n",
       "  </thead>\n",
       "  <tbody>\n",
       "    <tr>\n",
       "      <th>0</th>\n",
       "      <td>Acadia</td>\n",
       "      <td>3303393</td>\n",
       "      <td>February 26, 1919</td>\n",
       "      <td>Covering most of Mount Desert Island and other...</td>\n",
       "      <td>False</td>\n",
       "      <td>[{'id': 'state_maine', 'title': 'Maine'}]</td>\n",
       "    </tr>\n",
       "    <tr>\n",
       "      <th>1</th>\n",
       "      <td>American Samoa</td>\n",
       "      <td>28892</td>\n",
       "      <td>October 31, 1988</td>\n",
       "      <td>The southernmost National Park is on three Sam...</td>\n",
       "      <td>False</td>\n",
       "      <td>[{'id': 'state_american-samoa', 'title': 'Amer...</td>\n",
       "    </tr>\n",
       "    <tr>\n",
       "      <th>2</th>\n",
       "      <td>Arches</td>\n",
       "      <td>1585718</td>\n",
       "      <td>November 12, 1971</td>\n",
       "      <td>This site features more than 2,000 natural san...</td>\n",
       "      <td>False</td>\n",
       "      <td>[{'id': 'state_utah', 'title': 'Utah'}]</td>\n",
       "    </tr>\n",
       "    <tr>\n",
       "      <th>3</th>\n",
       "      <td>Badlands</td>\n",
       "      <td>996263</td>\n",
       "      <td>November 10, 1978</td>\n",
       "      <td>The Badlands are a collection of buttes, pinna...</td>\n",
       "      <td>False</td>\n",
       "      <td>[{'id': 'state_south-dakota', 'title': 'South ...</td>\n",
       "    </tr>\n",
       "    <tr>\n",
       "      <th>4</th>\n",
       "      <td>Big Bend</td>\n",
       "      <td>388290</td>\n",
       "      <td>June 12, 1944</td>\n",
       "      <td>Named for the prominent bend in the Rio Grande...</td>\n",
       "      <td>False</td>\n",
       "      <td>[{'id': 'state_texas', 'title': 'Texas'}]</td>\n",
       "    </tr>\n",
       "  </tbody>\n",
       "</table>\n",
       "</div>"
      ],
      "text/plain": [
       "            title visitors date_established_readable  \\\n",
       "0          Acadia  3303393         February 26, 1919   \n",
       "1  American Samoa    28892          October 31, 1988   \n",
       "2          Arches  1585718         November 12, 1971   \n",
       "3        Badlands   996263         November 10, 1978   \n",
       "4        Big Bend   388290             June 12, 1944   \n",
       "\n",
       "                                         description  world_heritage_site  \\\n",
       "0  Covering most of Mount Desert Island and other...                False   \n",
       "1  The southernmost National Park is on three Sam...                False   \n",
       "2  This site features more than 2,000 natural san...                False   \n",
       "3  The Badlands are a collection of buttes, pinna...                False   \n",
       "4  Named for the prominent bend in the Rio Grande...                False   \n",
       "\n",
       "                                              states  \n",
       "0          [{'id': 'state_maine', 'title': 'Maine'}]  \n",
       "1  [{'id': 'state_american-samoa', 'title': 'Amer...  \n",
       "2            [{'id': 'state_utah', 'title': 'Utah'}]  \n",
       "3  [{'id': 'state_south-dakota', 'title': 'South ...  \n",
       "4          [{'id': 'state_texas', 'title': 'Texas'}]  "
      ]
     },
     "execution_count": 271,
     "metadata": {},
     "output_type": "execute_result"
    }
   ],
   "source": [
    "df2_cleanVis = df2\n",
    "\n",
    "#get just the column with visitors\n",
    "df2_cleanVis['visitors'] = df2_cleanVis['visitors'].replace(',','', regex = True)\n",
    "df2_cleanVis.head()"
   ]
  },
  {
   "cell_type": "markdown",
   "metadata": {},
   "source": [
    "<!--  -->"
   ]
  },
  {
   "cell_type": "code",
   "execution_count": 274,
   "metadata": {},
   "outputs": [
    {
     "data": {
      "text/plain": [
       "title                        object\n",
       "visitors                     object\n",
       "date_established_readable    object\n",
       "description                  object\n",
       "world_heritage_site            bool\n",
       "states                       object\n",
       "dtype: object"
      ]
     },
     "execution_count": 274,
     "metadata": {},
     "output_type": "execute_result"
    }
   ],
   "source": [
    "df2_cleanVis.dtypes"
   ]
  },
  {
   "cell_type": "code",
   "execution_count": 276,
   "metadata": {},
   "outputs": [
    {
     "name": "stderr",
     "output_type": "stream",
     "text": [
      "/var/folders/x3/ktb8zmvs52zd_gw6_7z20blw0000gn/T/ipykernel_58631/1949495153.py:2: SettingWithCopyWarning: \n",
      "A value is trying to be set on a copy of a slice from a DataFrame.\n",
      "Try using .loc[row_indexer,col_indexer] = value instead\n",
      "\n",
      "See the caveats in the documentation: https://pandas.pydata.org/pandas-docs/stable/user_guide/indexing.html#returning-a-view-versus-a-copy\n",
      "  df2_cleanVis['visitors'] = df2_cleanVis['visitors'].astype('int')\n"
     ]
    }
   ],
   "source": [
    "#change the data type\n",
    "df2_cleanVis['visitors'] = df2_cleanVis['visitors'].astype('int')"
   ]
  },
  {
   "cell_type": "code",
   "execution_count": 278,
   "metadata": {},
   "outputs": [
    {
     "data": {
      "text/plain": [
       "title                        object\n",
       "visitors                      int64\n",
       "date_established_readable    object\n",
       "description                  object\n",
       "world_heritage_site            bool\n",
       "states                       object\n",
       "dtype: object"
      ]
     },
     "execution_count": 278,
     "metadata": {},
     "output_type": "execute_result"
    }
   ],
   "source": [
    "df2_cleanVis.dtypes"
   ]
  },
  {
   "cell_type": "code",
   "execution_count": 282,
   "metadata": {},
   "outputs": [
    {
     "data": {
      "text/html": [
       "<div>\n",
       "<style scoped>\n",
       "    .dataframe tbody tr th:only-of-type {\n",
       "        vertical-align: middle;\n",
       "    }\n",
       "\n",
       "    .dataframe tbody tr th {\n",
       "        vertical-align: top;\n",
       "    }\n",
       "\n",
       "    .dataframe thead th {\n",
       "        text-align: right;\n",
       "    }\n",
       "</style>\n",
       "<table border=\"1\" class=\"dataframe\">\n",
       "  <thead>\n",
       "    <tr style=\"text-align: right;\">\n",
       "      <th></th>\n",
       "      <th>title</th>\n",
       "      <th>visitors</th>\n",
       "      <th>date_established_readable</th>\n",
       "      <th>description</th>\n",
       "      <th>world_heritage_site</th>\n",
       "      <th>states</th>\n",
       "    </tr>\n",
       "  </thead>\n",
       "  <tbody>\n",
       "    <tr>\n",
       "      <th>0</th>\n",
       "      <td>Acadia</td>\n",
       "      <td>3303393</td>\n",
       "      <td>February 26, 1919</td>\n",
       "      <td>Covering most of Mount Desert Island and other...</td>\n",
       "      <td>False</td>\n",
       "      <td>[{'id': 'state_maine', 'title': 'Maine'}]</td>\n",
       "    </tr>\n",
       "    <tr>\n",
       "      <th>2</th>\n",
       "      <td>Arches</td>\n",
       "      <td>1585718</td>\n",
       "      <td>November 12, 1971</td>\n",
       "      <td>This site features more than 2,000 natural san...</td>\n",
       "      <td>False</td>\n",
       "      <td>[{'id': 'state_utah', 'title': 'Utah'}]</td>\n",
       "    </tr>\n",
       "    <tr>\n",
       "      <th>7</th>\n",
       "      <td>Bryce Canyon</td>\n",
       "      <td>2365110</td>\n",
       "      <td>February 25, 1928</td>\n",
       "      <td>Bryce Canyon is a geological amphitheater on t...</td>\n",
       "      <td>False</td>\n",
       "      <td>[{'id': 'state_utah', 'title': 'Utah'}]</td>\n",
       "    </tr>\n",
       "    <tr>\n",
       "      <th>9</th>\n",
       "      <td>Capitol Reef</td>\n",
       "      <td>1064904</td>\n",
       "      <td>December 18, 1971</td>\n",
       "      <td>The park's Waterpocket Fold is a 100-mile (160...</td>\n",
       "      <td>False</td>\n",
       "      <td>[{'id': 'state_utah', 'title': 'Utah'}]</td>\n",
       "    </tr>\n",
       "    <tr>\n",
       "      <th>14</th>\n",
       "      <td>Cuyahoga Valley</td>\n",
       "      <td>2423390</td>\n",
       "      <td>October 11, 2000</td>\n",
       "      <td>This park along the Cuyahoga River has waterfa...</td>\n",
       "      <td>False</td>\n",
       "      <td>[{'id': 'state_ohio', 'title': 'Ohio'}]</td>\n",
       "    </tr>\n",
       "    <tr>\n",
       "      <th>15</th>\n",
       "      <td>Death Valley</td>\n",
       "      <td>1296283</td>\n",
       "      <td>October 31, 1994</td>\n",
       "      <td>Death Valley is the hottest, lowest, and dries...</td>\n",
       "      <td>False</td>\n",
       "      <td>[{'id': 'state_california', 'title': 'Californ...</td>\n",
       "    </tr>\n",
       "    <tr>\n",
       "      <th>20</th>\n",
       "      <td>Glacier</td>\n",
       "      <td>2946681</td>\n",
       "      <td>May 11, 1910</td>\n",
       "      <td>The U.S. half of Waterton-Glacier Internationa...</td>\n",
       "      <td>True</td>\n",
       "      <td>[{'id': 'state_montana', 'title': 'Montana'}]</td>\n",
       "    </tr>\n",
       "    <tr>\n",
       "      <th>22</th>\n",
       "      <td>Grand Canyon</td>\n",
       "      <td>5969811</td>\n",
       "      <td>February 26, 1919</td>\n",
       "      <td>The Grand Canyon, carved by the mighty Colorad...</td>\n",
       "      <td>True</td>\n",
       "      <td>[{'id': 'state_arizona', 'title': 'Arizona'}]</td>\n",
       "    </tr>\n",
       "    <tr>\n",
       "      <th>23</th>\n",
       "      <td>Grand Teton</td>\n",
       "      <td>3270076</td>\n",
       "      <td>February 26, 1929</td>\n",
       "      <td>Grand Teton is the tallest mountain in the Tet...</td>\n",
       "      <td>False</td>\n",
       "      <td>[{'id': 'state_wyoming', 'title': 'Wyoming'}]</td>\n",
       "    </tr>\n",
       "    <tr>\n",
       "      <th>26</th>\n",
       "      <td>Great Smoky Mountains</td>\n",
       "      <td>11312786</td>\n",
       "      <td>June 15, 1934</td>\n",
       "      <td>The Great Smoky Mountains, part of the Appalac...</td>\n",
       "      <td>True</td>\n",
       "      <td>[{'id': 'state_tennessee', 'title': 'Tennessee...</td>\n",
       "    </tr>\n",
       "    <tr>\n",
       "      <th>28</th>\n",
       "      <td>Haleakala</td>\n",
       "      <td>1263558</td>\n",
       "      <td>August 1, 1916</td>\n",
       "      <td>The Haleakala volcano on Maui features a very ...</td>\n",
       "      <td>False</td>\n",
       "      <td>[{'id': 'state_hawaii', 'title': 'Hawaii'}]</td>\n",
       "    </tr>\n",
       "    <tr>\n",
       "      <th>29</th>\n",
       "      <td>Hawaii Volcanoes</td>\n",
       "      <td>1887580</td>\n",
       "      <td>August 1, 1916</td>\n",
       "      <td>This park on the Big Island protects the Kīlau...</td>\n",
       "      <td>True</td>\n",
       "      <td>[{'id': 'state_hawaii', 'title': 'Hawaii'}]</td>\n",
       "    </tr>\n",
       "    <tr>\n",
       "      <th>30</th>\n",
       "      <td>Hot Springs</td>\n",
       "      <td>1544300</td>\n",
       "      <td>March 4, 1921</td>\n",
       "      <td>Hot Springs was established by act of Congress...</td>\n",
       "      <td>False</td>\n",
       "      <td>[{'id': 'state_arkansas', 'title': 'Arkansas'}]</td>\n",
       "    </tr>\n",
       "    <tr>\n",
       "      <th>32</th>\n",
       "      <td>Joshua Tree</td>\n",
       "      <td>2505286</td>\n",
       "      <td>October 31, 1994</td>\n",
       "      <td>Covering large areas of the Colorado and Mojav...</td>\n",
       "      <td>False</td>\n",
       "      <td>[{'id': 'state_california', 'title': 'Californ...</td>\n",
       "    </tr>\n",
       "    <tr>\n",
       "      <th>41</th>\n",
       "      <td>Mount Rainier</td>\n",
       "      <td>1356913</td>\n",
       "      <td>March 2, 1899</td>\n",
       "      <td>Mount Rainier, an active stratovolcano, is the...</td>\n",
       "      <td>False</td>\n",
       "      <td>[{'id': 'state_washington', 'title': 'Washingt...</td>\n",
       "    </tr>\n",
       "    <tr>\n",
       "      <th>43</th>\n",
       "      <td>Olympic</td>\n",
       "      <td>3390221</td>\n",
       "      <td>June 29, 1938</td>\n",
       "      <td>Situated on the Olympic Peninsula, this park i...</td>\n",
       "      <td>True</td>\n",
       "      <td>[{'id': 'state_washington', 'title': 'Washingt...</td>\n",
       "    </tr>\n",
       "    <tr>\n",
       "      <th>47</th>\n",
       "      <td>Rocky Mountain</td>\n",
       "      <td>4517585</td>\n",
       "      <td>January 26, 1915</td>\n",
       "      <td>Bisected north to south by the Continental Div...</td>\n",
       "      <td>False</td>\n",
       "      <td>[{'id': 'state_colorado', 'title': 'Colorado'}]</td>\n",
       "    </tr>\n",
       "    <tr>\n",
       "      <th>49</th>\n",
       "      <td>Sequoia</td>\n",
       "      <td>1254688</td>\n",
       "      <td>September 25, 1890</td>\n",
       "      <td>This park protects the Giant Forest, which boa...</td>\n",
       "      <td>False</td>\n",
       "      <td>[{'id': 'state_california', 'title': 'Californ...</td>\n",
       "    </tr>\n",
       "    <tr>\n",
       "      <th>50</th>\n",
       "      <td>Shenandoah</td>\n",
       "      <td>1437341</td>\n",
       "      <td>December 26, 1935</td>\n",
       "      <td>Shenandoah's Blue Ridge Mountains are covered ...</td>\n",
       "      <td>False</td>\n",
       "      <td>[{'id': 'state_virginia', 'title': 'Virginia'}]</td>\n",
       "    </tr>\n",
       "    <tr>\n",
       "      <th>56</th>\n",
       "      <td>Yellowstone</td>\n",
       "      <td>4257177</td>\n",
       "      <td>March 1, 1872</td>\n",
       "      <td>Situated on the Yellowstone Caldera, the park ...</td>\n",
       "      <td>True</td>\n",
       "      <td>[{'id': 'state_wyoming', 'title': 'Wyoming'}, ...</td>\n",
       "    </tr>\n",
       "    <tr>\n",
       "      <th>57</th>\n",
       "      <td>Yosemite</td>\n",
       "      <td>5028868</td>\n",
       "      <td>October 1, 1890</td>\n",
       "      <td>Yosemite features sheer granite cliffs, except...</td>\n",
       "      <td>True</td>\n",
       "      <td>[{'id': 'state_california', 'title': 'Californ...</td>\n",
       "    </tr>\n",
       "    <tr>\n",
       "      <th>58</th>\n",
       "      <td>Zion</td>\n",
       "      <td>4295127</td>\n",
       "      <td>November 19, 1919</td>\n",
       "      <td>Located at the junction of the Colorado Platea...</td>\n",
       "      <td>False</td>\n",
       "      <td>[{'id': 'state_utah', 'title': 'Utah'}]</td>\n",
       "    </tr>\n",
       "  </tbody>\n",
       "</table>\n",
       "</div>"
      ],
      "text/plain": [
       "                    title  visitors date_established_readable  \\\n",
       "0                  Acadia   3303393         February 26, 1919   \n",
       "2                  Arches   1585718         November 12, 1971   \n",
       "7            Bryce Canyon   2365110         February 25, 1928   \n",
       "9            Capitol Reef   1064904         December 18, 1971   \n",
       "14        Cuyahoga Valley   2423390          October 11, 2000   \n",
       "15           Death Valley   1296283          October 31, 1994   \n",
       "20                Glacier   2946681              May 11, 1910   \n",
       "22           Grand Canyon   5969811         February 26, 1919   \n",
       "23            Grand Teton   3270076         February 26, 1929   \n",
       "26  Great Smoky Mountains  11312786             June 15, 1934   \n",
       "28              Haleakala   1263558            August 1, 1916   \n",
       "29       Hawaii Volcanoes   1887580            August 1, 1916   \n",
       "30            Hot Springs   1544300             March 4, 1921   \n",
       "32            Joshua Tree   2505286          October 31, 1994   \n",
       "41          Mount Rainier   1356913             March 2, 1899   \n",
       "43                Olympic   3390221             June 29, 1938   \n",
       "47         Rocky Mountain   4517585          January 26, 1915   \n",
       "49                Sequoia   1254688        September 25, 1890   \n",
       "50             Shenandoah   1437341         December 26, 1935   \n",
       "56            Yellowstone   4257177             March 1, 1872   \n",
       "57               Yosemite   5028868           October 1, 1890   \n",
       "58                   Zion   4295127         November 19, 1919   \n",
       "\n",
       "                                          description  world_heritage_site  \\\n",
       "0   Covering most of Mount Desert Island and other...                False   \n",
       "2   This site features more than 2,000 natural san...                False   \n",
       "7   Bryce Canyon is a geological amphitheater on t...                False   \n",
       "9   The park's Waterpocket Fold is a 100-mile (160...                False   \n",
       "14  This park along the Cuyahoga River has waterfa...                False   \n",
       "15  Death Valley is the hottest, lowest, and dries...                False   \n",
       "20  The U.S. half of Waterton-Glacier Internationa...                 True   \n",
       "22  The Grand Canyon, carved by the mighty Colorad...                 True   \n",
       "23  Grand Teton is the tallest mountain in the Tet...                False   \n",
       "26  The Great Smoky Mountains, part of the Appalac...                 True   \n",
       "28  The Haleakala volcano on Maui features a very ...                False   \n",
       "29  This park on the Big Island protects the Kīlau...                 True   \n",
       "30  Hot Springs was established by act of Congress...                False   \n",
       "32  Covering large areas of the Colorado and Mojav...                False   \n",
       "41  Mount Rainier, an active stratovolcano, is the...                False   \n",
       "43  Situated on the Olympic Peninsula, this park i...                 True   \n",
       "47  Bisected north to south by the Continental Div...                False   \n",
       "49  This park protects the Giant Forest, which boa...                False   \n",
       "50  Shenandoah's Blue Ridge Mountains are covered ...                False   \n",
       "56  Situated on the Yellowstone Caldera, the park ...                 True   \n",
       "57  Yosemite features sheer granite cliffs, except...                 True   \n",
       "58  Located at the junction of the Colorado Platea...                False   \n",
       "\n",
       "                                               states  \n",
       "0           [{'id': 'state_maine', 'title': 'Maine'}]  \n",
       "2             [{'id': 'state_utah', 'title': 'Utah'}]  \n",
       "7             [{'id': 'state_utah', 'title': 'Utah'}]  \n",
       "9             [{'id': 'state_utah', 'title': 'Utah'}]  \n",
       "14            [{'id': 'state_ohio', 'title': 'Ohio'}]  \n",
       "15  [{'id': 'state_california', 'title': 'Californ...  \n",
       "20      [{'id': 'state_montana', 'title': 'Montana'}]  \n",
       "22      [{'id': 'state_arizona', 'title': 'Arizona'}]  \n",
       "23      [{'id': 'state_wyoming', 'title': 'Wyoming'}]  \n",
       "26  [{'id': 'state_tennessee', 'title': 'Tennessee...  \n",
       "28        [{'id': 'state_hawaii', 'title': 'Hawaii'}]  \n",
       "29        [{'id': 'state_hawaii', 'title': 'Hawaii'}]  \n",
       "30    [{'id': 'state_arkansas', 'title': 'Arkansas'}]  \n",
       "32  [{'id': 'state_california', 'title': 'Californ...  \n",
       "41  [{'id': 'state_washington', 'title': 'Washingt...  \n",
       "43  [{'id': 'state_washington', 'title': 'Washingt...  \n",
       "47    [{'id': 'state_colorado', 'title': 'Colorado'}]  \n",
       "49  [{'id': 'state_california', 'title': 'Californ...  \n",
       "50    [{'id': 'state_virginia', 'title': 'Virginia'}]  \n",
       "56  [{'id': 'state_wyoming', 'title': 'Wyoming'}, ...  \n",
       "57  [{'id': 'state_california', 'title': 'Californ...  \n",
       "58            [{'id': 'state_utah', 'title': 'Utah'}]  "
      ]
     },
     "execution_count": 282,
     "metadata": {},
     "output_type": "execute_result"
    }
   ],
   "source": [
    "milVis = df2_cleanVis[df2_cleanVis['visitors'] > 1000000]\n",
    "milVis"
   ]
  },
  {
   "cell_type": "markdown",
   "metadata": {},
   "source": [
    "### Exercise 2: Create a dictionary of the number of national parks per state\n"
   ]
  },
  {
   "cell_type": "code",
   "execution_count": 285,
   "metadata": {
    "scrolled": true
   },
   "outputs": [
    {
     "data": {
      "text/plain": [
       "[{'id': 'state_maine', 'title': 'Maine'}]"
      ]
     },
     "execution_count": 285,
     "metadata": {},
     "output_type": "execute_result"
    }
   ],
   "source": [
    "df2['states'][0]"
   ]
  },
  {
   "cell_type": "code",
   "execution_count": 287,
   "metadata": {},
   "outputs": [
    {
     "data": {
      "text/plain": [
       "list"
      ]
     },
     "execution_count": 287,
     "metadata": {},
     "output_type": "execute_result"
    }
   ],
   "source": [
    "type(df2['states'][0])"
   ]
  },
  {
   "cell_type": "code",
   "execution_count": 289,
   "metadata": {},
   "outputs": [
    {
     "data": {
      "text/plain": [
       "dict"
      ]
     },
     "execution_count": 289,
     "metadata": {},
     "output_type": "execute_result"
    }
   ],
   "source": [
    "type(df2['states'][0][0])"
   ]
  },
  {
   "cell_type": "code",
   "execution_count": 291,
   "metadata": {},
   "outputs": [
    {
     "data": {
      "text/plain": [
       "'Maine'"
      ]
     },
     "execution_count": 291,
     "metadata": {},
     "output_type": "execute_result"
    }
   ],
   "source": [
    "df2['states'][0][0]['title']"
   ]
  },
  {
   "cell_type": "code",
   "execution_count": 293,
   "metadata": {},
   "outputs": [
    {
     "data": {
      "text/html": [
       "<div>\n",
       "<style scoped>\n",
       "    .dataframe tbody tr th:only-of-type {\n",
       "        vertical-align: middle;\n",
       "    }\n",
       "\n",
       "    .dataframe tbody tr th {\n",
       "        vertical-align: top;\n",
       "    }\n",
       "\n",
       "    .dataframe thead th {\n",
       "        text-align: right;\n",
       "    }\n",
       "</style>\n",
       "<table border=\"1\" class=\"dataframe\">\n",
       "  <thead>\n",
       "    <tr style=\"text-align: right;\">\n",
       "      <th></th>\n",
       "      <th>title</th>\n",
       "      <th>visitors</th>\n",
       "      <th>date_established_readable</th>\n",
       "      <th>description</th>\n",
       "      <th>world_heritage_site</th>\n",
       "      <th>states</th>\n",
       "    </tr>\n",
       "  </thead>\n",
       "  <tbody>\n",
       "    <tr>\n",
       "      <th>0</th>\n",
       "      <td>Acadia</td>\n",
       "      <td>3303393</td>\n",
       "      <td>February 26, 1919</td>\n",
       "      <td>Covering most of Mount Desert Island and other...</td>\n",
       "      <td>False</td>\n",
       "      <td>{'id': 'state_maine', 'title': 'Maine'}</td>\n",
       "    </tr>\n",
       "    <tr>\n",
       "      <th>1</th>\n",
       "      <td>American Samoa</td>\n",
       "      <td>28892</td>\n",
       "      <td>October 31, 1988</td>\n",
       "      <td>The southernmost National Park is on three Sam...</td>\n",
       "      <td>False</td>\n",
       "      <td>{'id': 'state_american-samoa', 'title': 'Ameri...</td>\n",
       "    </tr>\n",
       "    <tr>\n",
       "      <th>2</th>\n",
       "      <td>Arches</td>\n",
       "      <td>1585718</td>\n",
       "      <td>November 12, 1971</td>\n",
       "      <td>This site features more than 2,000 natural san...</td>\n",
       "      <td>False</td>\n",
       "      <td>{'id': 'state_utah', 'title': 'Utah'}</td>\n",
       "    </tr>\n",
       "    <tr>\n",
       "      <th>3</th>\n",
       "      <td>Badlands</td>\n",
       "      <td>996263</td>\n",
       "      <td>November 10, 1978</td>\n",
       "      <td>The Badlands are a collection of buttes, pinna...</td>\n",
       "      <td>False</td>\n",
       "      <td>{'id': 'state_south-dakota', 'title': 'South D...</td>\n",
       "    </tr>\n",
       "    <tr>\n",
       "      <th>4</th>\n",
       "      <td>Big Bend</td>\n",
       "      <td>388290</td>\n",
       "      <td>June 12, 1944</td>\n",
       "      <td>Named for the prominent bend in the Rio Grande...</td>\n",
       "      <td>False</td>\n",
       "      <td>{'id': 'state_texas', 'title': 'Texas'}</td>\n",
       "    </tr>\n",
       "  </tbody>\n",
       "</table>\n",
       "</div>"
      ],
      "text/plain": [
       "            title  visitors date_established_readable  \\\n",
       "0          Acadia   3303393         February 26, 1919   \n",
       "1  American Samoa     28892          October 31, 1988   \n",
       "2          Arches   1585718         November 12, 1971   \n",
       "3        Badlands    996263         November 10, 1978   \n",
       "4        Big Bend    388290             June 12, 1944   \n",
       "\n",
       "                                         description  world_heritage_site  \\\n",
       "0  Covering most of Mount Desert Island and other...                False   \n",
       "1  The southernmost National Park is on three Sam...                False   \n",
       "2  This site features more than 2,000 natural san...                False   \n",
       "3  The Badlands are a collection of buttes, pinna...                False   \n",
       "4  Named for the prominent bend in the Rio Grande...                False   \n",
       "\n",
       "                                              states  \n",
       "0            {'id': 'state_maine', 'title': 'Maine'}  \n",
       "1  {'id': 'state_american-samoa', 'title': 'Ameri...  \n",
       "2              {'id': 'state_utah', 'title': 'Utah'}  \n",
       "3  {'id': 'state_south-dakota', 'title': 'South D...  \n",
       "4            {'id': 'state_texas', 'title': 'Texas'}  "
      ]
     },
     "execution_count": 293,
     "metadata": {},
     "output_type": "execute_result"
    }
   ],
   "source": [
    "#this EXPLODES the data. This also removes the list\n",
    "df2_big = df2.explode('states')\n",
    "df2_big.head()"
   ]
  },
  {
   "cell_type": "code",
   "execution_count": 295,
   "metadata": {},
   "outputs": [
    {
     "data": {
      "text/plain": [
       "'Maine'"
      ]
     },
     "execution_count": 295,
     "metadata": {},
     "output_type": "execute_result"
    }
   ],
   "source": [
    "df2_big['states'][0]['title']"
   ]
  },
  {
   "cell_type": "code",
   "execution_count": 297,
   "metadata": {},
   "outputs": [
    {
     "data": {
      "text/html": [
       "<div>\n",
       "<style scoped>\n",
       "    .dataframe tbody tr th:only-of-type {\n",
       "        vertical-align: middle;\n",
       "    }\n",
       "\n",
       "    .dataframe tbody tr th {\n",
       "        vertical-align: top;\n",
       "    }\n",
       "\n",
       "    .dataframe thead th {\n",
       "        text-align: right;\n",
       "    }\n",
       "</style>\n",
       "<table border=\"1\" class=\"dataframe\">\n",
       "  <thead>\n",
       "    <tr style=\"text-align: right;\">\n",
       "      <th></th>\n",
       "      <th>title</th>\n",
       "      <th>visitors</th>\n",
       "      <th>date_established_readable</th>\n",
       "      <th>description</th>\n",
       "      <th>world_heritage_site</th>\n",
       "      <th>states</th>\n",
       "      <th>states_id</th>\n",
       "    </tr>\n",
       "  </thead>\n",
       "  <tbody>\n",
       "    <tr>\n",
       "      <th>0</th>\n",
       "      <td>Acadia</td>\n",
       "      <td>3303393</td>\n",
       "      <td>February 26, 1919</td>\n",
       "      <td>Covering most of Mount Desert Island and other...</td>\n",
       "      <td>False</td>\n",
       "      <td>{'id': 'state_maine', 'title': 'Maine'}</td>\n",
       "      <td>{'id': 'state_maine', 'title': 'Maine'}</td>\n",
       "    </tr>\n",
       "    <tr>\n",
       "      <th>1</th>\n",
       "      <td>American Samoa</td>\n",
       "      <td>28892</td>\n",
       "      <td>October 31, 1988</td>\n",
       "      <td>The southernmost National Park is on three Sam...</td>\n",
       "      <td>False</td>\n",
       "      <td>{'id': 'state_american-samoa', 'title': 'Ameri...</td>\n",
       "      <td>{'id': 'state_american-samoa', 'title': 'Ameri...</td>\n",
       "    </tr>\n",
       "    <tr>\n",
       "      <th>2</th>\n",
       "      <td>Arches</td>\n",
       "      <td>1585718</td>\n",
       "      <td>November 12, 1971</td>\n",
       "      <td>This site features more than 2,000 natural san...</td>\n",
       "      <td>False</td>\n",
       "      <td>{'id': 'state_utah', 'title': 'Utah'}</td>\n",
       "      <td>{'id': 'state_utah', 'title': 'Utah'}</td>\n",
       "    </tr>\n",
       "    <tr>\n",
       "      <th>3</th>\n",
       "      <td>Badlands</td>\n",
       "      <td>996263</td>\n",
       "      <td>November 10, 1978</td>\n",
       "      <td>The Badlands are a collection of buttes, pinna...</td>\n",
       "      <td>False</td>\n",
       "      <td>{'id': 'state_south-dakota', 'title': 'South D...</td>\n",
       "      <td>{'id': 'state_south-dakota', 'title': 'South D...</td>\n",
       "    </tr>\n",
       "    <tr>\n",
       "      <th>4</th>\n",
       "      <td>Big Bend</td>\n",
       "      <td>388290</td>\n",
       "      <td>June 12, 1944</td>\n",
       "      <td>Named for the prominent bend in the Rio Grande...</td>\n",
       "      <td>False</td>\n",
       "      <td>{'id': 'state_texas', 'title': 'Texas'}</td>\n",
       "      <td>{'id': 'state_texas', 'title': 'Texas'}</td>\n",
       "    </tr>\n",
       "  </tbody>\n",
       "</table>\n",
       "</div>"
      ],
      "text/plain": [
       "            title  visitors date_established_readable  \\\n",
       "0          Acadia   3303393         February 26, 1919   \n",
       "1  American Samoa     28892          October 31, 1988   \n",
       "2          Arches   1585718         November 12, 1971   \n",
       "3        Badlands    996263         November 10, 1978   \n",
       "4        Big Bend    388290             June 12, 1944   \n",
       "\n",
       "                                         description  world_heritage_site  \\\n",
       "0  Covering most of Mount Desert Island and other...                False   \n",
       "1  The southernmost National Park is on three Sam...                False   \n",
       "2  This site features more than 2,000 natural san...                False   \n",
       "3  The Badlands are a collection of buttes, pinna...                False   \n",
       "4  Named for the prominent bend in the Rio Grande...                False   \n",
       "\n",
       "                                              states  \\\n",
       "0            {'id': 'state_maine', 'title': 'Maine'}   \n",
       "1  {'id': 'state_american-samoa', 'title': 'Ameri...   \n",
       "2              {'id': 'state_utah', 'title': 'Utah'}   \n",
       "3  {'id': 'state_south-dakota', 'title': 'South D...   \n",
       "4            {'id': 'state_texas', 'title': 'Texas'}   \n",
       "\n",
       "                                           states_id  \n",
       "0            {'id': 'state_maine', 'title': 'Maine'}  \n",
       "1  {'id': 'state_american-samoa', 'title': 'Ameri...  \n",
       "2              {'id': 'state_utah', 'title': 'Utah'}  \n",
       "3  {'id': 'state_south-dakota', 'title': 'South D...  \n",
       "4            {'id': 'state_texas', 'title': 'Texas'}  "
      ]
     },
     "execution_count": 297,
     "metadata": {},
     "output_type": "execute_result"
    }
   ],
   "source": [
    "#this is another way of DUPLICATING data\n",
    "df2_big['states_id'] = df2_big['states']\n",
    "df2_big.head()"
   ]
  },
  {
   "cell_type": "code",
   "execution_count": 299,
   "metadata": {},
   "outputs": [],
   "source": [
    "#initialize the dict first\n",
    "stateParks = {}\n",
    "\n",
    "# get the data in each of the state column\n",
    "\n",
    "for i in df2_big['states']:\n",
    "    # get the names of the state\n",
    "    stateName = i['title']\n",
    "    # add the number of each instance to a dictionary\n",
    "    if stateName in stateParks.keys():\n",
    "        stateParks[stateName] += 1\n",
    "\n",
    "    else:\n",
    "        stateParks[stateName] = 1\n",
    "\n"
   ]
  },
  {
   "cell_type": "code",
   "execution_count": 301,
   "metadata": {},
   "outputs": [
    {
     "data": {
      "text/plain": [
       "{'Maine': 1,\n",
       " 'American Samoa': 1,\n",
       " 'Utah': 5,\n",
       " 'South Dakota': 2,\n",
       " 'Texas': 2,\n",
       " 'Florida': 3,\n",
       " 'Colorado': 4,\n",
       " 'New Mexico': 1,\n",
       " 'California': 9,\n",
       " 'South Carolina': 1,\n",
       " 'Oregon': 1,\n",
       " 'Ohio': 1,\n",
       " 'Nevada': 2,\n",
       " 'Alaska': 8,\n",
       " 'Montana': 2,\n",
       " 'Arizona': 3,\n",
       " 'Wyoming': 2,\n",
       " 'Tennessee': 1,\n",
       " 'North Carolina': 1,\n",
       " 'Hawaii': 2,\n",
       " 'Arkansas': 1,\n",
       " 'Michigan': 1,\n",
       " 'Kentucky': 1,\n",
       " 'Washington': 3,\n",
       " 'Virginia': 1,\n",
       " 'North Dakota': 1,\n",
       " 'US Virgin Islands': 1,\n",
       " 'Minnesota': 1,\n",
       " 'Idaho': 1}"
      ]
     },
     "execution_count": 301,
     "metadata": {},
     "output_type": "execute_result"
    }
   ],
   "source": [
    "stateParks"
   ]
  },
  {
   "cell_type": "code",
   "execution_count": null,
   "metadata": {},
   "outputs": [],
   "source": []
  }
 ],
 "metadata": {
  "kernelspec": {
   "display_name": "Python 3 (ipykernel)",
   "language": "python",
   "name": "python3"
  },
  "language_info": {
   "codemirror_mode": {
    "name": "ipython",
    "version": 3
   },
   "file_extension": ".py",
   "mimetype": "text/x-python",
   "name": "python",
   "nbconvert_exporter": "python",
   "pygments_lexer": "ipython3",
   "version": "3.12.4"
  }
 },
 "nbformat": 4,
 "nbformat_minor": 4
}
